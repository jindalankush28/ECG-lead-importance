{
 "cells": [
  {
   "cell_type": "code",
   "execution_count": 1,
   "metadata": {},
   "outputs": [],
   "source": [
    "%load_ext autoreload\n",
    "%autoreload 2"
   ]
  },
  {
   "cell_type": "code",
   "execution_count": 2,
   "metadata": {},
   "outputs": [
    {
     "name": "stderr",
     "output_type": "stream",
     "text": [
      "/tmp/ipykernel_2955013/1586894989.py:13: DeprecationWarning: \n",
      "Pyarrow will become a required dependency of pandas in the next major release of pandas (pandas 3.0),\n",
      "(to allow more performant data types, such as the Arrow string type, and better interoperability with other libraries)\n",
      "but was not found to be installed on your system.\n",
      "If this would cause problems for you,\n",
      "please provide us feedback at https://github.com/pandas-dev/pandas/issues/54466\n",
      "        \n",
      "  import pandas as pd\n",
      "2024-04-15 12:38:29.659049: E external/local_xla/xla/stream_executor/cuda/cuda_dnn.cc:9261] Unable to register cuDNN factory: Attempting to register factory for plugin cuDNN when one has already been registered\n",
      "2024-04-15 12:38:29.659083: E external/local_xla/xla/stream_executor/cuda/cuda_fft.cc:607] Unable to register cuFFT factory: Attempting to register factory for plugin cuFFT when one has already been registered\n",
      "2024-04-15 12:38:29.660158: E external/local_xla/xla/stream_executor/cuda/cuda_blas.cc:1515] Unable to register cuBLAS factory: Attempting to register factory for plugin cuBLAS when one has already been registered\n",
      "2024-04-15 12:38:29.665822: I tensorflow/core/platform/cpu_feature_guard.cc:182] This TensorFlow binary is optimized to use available CPU instructions in performance-critical operations.\n",
      "To enable the following instructions: AVX2 FMA, in other operations, rebuild TensorFlow with the appropriate compiler flags.\n",
      "2024-04-15 12:38:30.350391: W tensorflow/compiler/tf2tensorrt/utils/py_utils.cc:38] TF-TRT Warning: Could not find TensorRT\n"
     ]
    }
   ],
   "source": [
    "# Standard libraries\n",
    "\n",
    "import math\n",
    "import os\n",
    "import sys\n",
    "\n",
    "os.environ['TF_GPU_ALLOCATOR'] = 'cuda_malloc_async'\n",
    "\n",
    "\n",
    "# Third-party libraries\n",
    "import matplotlib.pyplot as plt\n",
    "import numpy as np\n",
    "import pandas as pd\n",
    "from tqdm import tqdm\n",
    "\n",
    "# Scikit-learn\n",
    "from sklearn.calibration import calibration_curve\n",
    "from sklearn.model_selection import train_test_split\n",
    "from sklearn.preprocessing import StandardScaler\n",
    "\n",
    "# Keras\n",
    "import keras\n",
    "from keras import backend as K\n",
    "from keras.callbacks import EarlyStopping\n",
    "from keras.layers import Input, Dense, Conv1D, Dropout, Activation, Flatten\n",
    "from keras.metrics import AUC\n",
    "from keras.models import Model, Sequential\n",
    "from keras.optimizers import Adam\n",
    "from keras.utils import Sequence\n",
    "\n",
    "# TensorFlow\n",
    "import tensorflow as tf\n",
    "from tensorflow.keras.layers import Input, Dropout, Dense, Flatten, LayerNormalization, MultiHeadAttention\n",
    "from tensorflow.keras.models import Model\n",
    "\n",
    "# Local imports\n",
    "from models import Attia_et_al_CNN\n",
    "\n",
    "# Environment variables\n",
    "os.environ['CUDA_VISIBLE_DEVICES'] = '0'\n",
    "\n",
    "from utils import split_train_val_test, load_X_y"
   ]
  },
  {
   "cell_type": "code",
   "execution_count": 3,
   "metadata": {},
   "outputs": [],
   "source": [
    "LEAD_NAME = 'V3'"
   ]
  },
  {
   "cell_type": "code",
   "execution_count": 4,
   "metadata": {},
   "outputs": [],
   "source": [
    "# load diagnostic_data.pickle\n",
    "data_df = pd.read_pickle('data/arrythmia_dataset.pickle')"
   ]
  },
  {
   "cell_type": "code",
   "execution_count": 5,
   "metadata": {},
   "outputs": [
    {
     "name": "stdout",
     "output_type": "stream",
     "text": [
      "Attia et al. CNN model initialized with the following parameters:\n",
      "  filter_numbers: [16, 16, 32, 32, 64, 64]\n",
      "  kernel_widths: [5, 5, 5, 3, 3, 3]\n",
      "  pool_sizes: [2, 2, 4, 2, 2, 4]\n",
      "  spatial_num_filters: 64\n",
      "  dense_dropout_rate: 0.2\n",
      "  spatial_dropout_rate: 0.2\n",
      "  dense_units: [64, 32]\n",
      "  use_spatial_layer: False\n"
     ]
    },
    {
     "name": "stderr",
     "output_type": "stream",
     "text": [
      "2024-04-15 12:38:55.399600: I external/local_xla/xla/stream_executor/cuda/cuda_executor.cc:901] successful NUMA node read from SysFS had negative value (-1), but there must be at least one NUMA node, so returning NUMA node zero. See more at https://github.com/torvalds/linux/blob/v6.0/Documentation/ABI/testing/sysfs-bus-pci#L344-L355\n",
      "2024-04-15 12:38:55.430088: I external/local_xla/xla/stream_executor/cuda/cuda_executor.cc:901] successful NUMA node read from SysFS had negative value (-1), but there must be at least one NUMA node, so returning NUMA node zero. See more at https://github.com/torvalds/linux/blob/v6.0/Documentation/ABI/testing/sysfs-bus-pci#L344-L355\n",
      "2024-04-15 12:38:55.430423: I external/local_xla/xla/stream_executor/cuda/cuda_executor.cc:901] successful NUMA node read from SysFS had negative value (-1), but there must be at least one NUMA node, so returning NUMA node zero. See more at https://github.com/torvalds/linux/blob/v6.0/Documentation/ABI/testing/sysfs-bus-pci#L344-L355\n",
      "2024-04-15 12:38:55.433578: I external/local_xla/xla/stream_executor/cuda/cuda_executor.cc:901] successful NUMA node read from SysFS had negative value (-1), but there must be at least one NUMA node, so returning NUMA node zero. See more at https://github.com/torvalds/linux/blob/v6.0/Documentation/ABI/testing/sysfs-bus-pci#L344-L355\n",
      "2024-04-15 12:38:55.433862: I external/local_xla/xla/stream_executor/cuda/cuda_executor.cc:901] successful NUMA node read from SysFS had negative value (-1), but there must be at least one NUMA node, so returning NUMA node zero. See more at https://github.com/torvalds/linux/blob/v6.0/Documentation/ABI/testing/sysfs-bus-pci#L344-L355\n",
      "2024-04-15 12:38:55.434128: I external/local_xla/xla/stream_executor/cuda/cuda_executor.cc:901] successful NUMA node read from SysFS had negative value (-1), but there must be at least one NUMA node, so returning NUMA node zero. See more at https://github.com/torvalds/linux/blob/v6.0/Documentation/ABI/testing/sysfs-bus-pci#L344-L355\n",
      "2024-04-15 12:38:55.892900: I external/local_xla/xla/stream_executor/cuda/cuda_executor.cc:901] successful NUMA node read from SysFS had negative value (-1), but there must be at least one NUMA node, so returning NUMA node zero. See more at https://github.com/torvalds/linux/blob/v6.0/Documentation/ABI/testing/sysfs-bus-pci#L344-L355\n",
      "2024-04-15 12:38:55.893204: I external/local_xla/xla/stream_executor/cuda/cuda_executor.cc:901] successful NUMA node read from SysFS had negative value (-1), but there must be at least one NUMA node, so returning NUMA node zero. See more at https://github.com/torvalds/linux/blob/v6.0/Documentation/ABI/testing/sysfs-bus-pci#L344-L355\n",
      "2024-04-15 12:38:55.893432: I tensorflow/core/common_runtime/gpu/gpu_process_state.cc:236] Using CUDA malloc Async allocator for GPU: 0\n",
      "2024-04-15 12:38:55.893530: I external/local_xla/xla/stream_executor/cuda/cuda_executor.cc:901] successful NUMA node read from SysFS had negative value (-1), but there must be at least one NUMA node, so returning NUMA node zero. See more at https://github.com/torvalds/linux/blob/v6.0/Documentation/ABI/testing/sysfs-bus-pci#L344-L355\n",
      "2024-04-15 12:38:55.893768: I tensorflow/core/common_runtime/gpu/gpu_device.cc:1929] Created device /job:localhost/replica:0/task:0/device:GPU:0 with 9576 MB memory:  -> device: 0, name: NVIDIA RTX A5500, pci bus id: 0000:01:00.0, compute capability: 8.6\n"
     ]
    },
    {
     "name": "stdout",
     "output_type": "stream",
     "text": [
      "Model: \"model\"\n",
      "_________________________________________________________________\n",
      " Layer (type)                Output Shape              Param #   \n",
      "=================================================================\n",
      " input_1 (InputLayer)        [(None, 5000, 1)]         0         \n",
      "                                                                 \n",
      " conv1d (Conv1D)             (None, 5000, 16)          96        \n",
      "                                                                 \n",
      " batch_normalization (Batch  (None, 5000, 16)          64        \n",
      " Normalization)                                                  \n",
      "                                                                 \n",
      " activation (Activation)     (None, 5000, 16)          0         \n",
      "                                                                 \n",
      " max_pooling1d (MaxPooling1  (None, 2500, 16)          0         \n",
      " D)                                                              \n",
      "                                                                 \n",
      " spatial_dropout1d (Spatial  (None, 2500, 16)          0         \n",
      " Dropout1D)                                                      \n",
      "                                                                 \n",
      " conv1d_1 (Conv1D)           (None, 2500, 16)          1296      \n",
      "                                                                 \n",
      " batch_normalization_1 (Bat  (None, 2500, 16)          64        \n",
      " chNormalization)                                                \n",
      "                                                                 \n",
      " activation_1 (Activation)   (None, 2500, 16)          0         \n",
      "                                                                 \n",
      " max_pooling1d_1 (MaxPoolin  (None, 1250, 16)          0         \n",
      " g1D)                                                            \n",
      "                                                                 \n",
      " spatial_dropout1d_1 (Spati  (None, 1250, 16)          0         \n",
      " alDropout1D)                                                    \n",
      "                                                                 \n",
      " conv1d_2 (Conv1D)           (None, 1250, 32)          2592      \n",
      "                                                                 \n",
      " batch_normalization_2 (Bat  (None, 1250, 32)          128       \n",
      " chNormalization)                                                \n",
      "                                                                 \n",
      " activation_2 (Activation)   (None, 1250, 32)          0         \n",
      "                                                                 \n",
      " max_pooling1d_2 (MaxPoolin  (None, 312, 32)           0         \n",
      " g1D)                                                            \n",
      "                                                                 \n",
      " spatial_dropout1d_2 (Spati  (None, 312, 32)           0         \n",
      " alDropout1D)                                                    \n",
      "                                                                 \n",
      " conv1d_3 (Conv1D)           (None, 312, 32)           3104      \n",
      "                                                                 \n",
      " batch_normalization_3 (Bat  (None, 312, 32)           128       \n",
      " chNormalization)                                                \n",
      "                                                                 \n",
      " activation_3 (Activation)   (None, 312, 32)           0         \n",
      "                                                                 \n",
      " max_pooling1d_3 (MaxPoolin  (None, 156, 32)           0         \n",
      " g1D)                                                            \n",
      "                                                                 \n",
      " spatial_dropout1d_3 (Spati  (None, 156, 32)           0         \n",
      " alDropout1D)                                                    \n",
      "                                                                 \n",
      " conv1d_4 (Conv1D)           (None, 156, 64)           6208      \n",
      "                                                                 \n",
      " batch_normalization_4 (Bat  (None, 156, 64)           256       \n",
      " chNormalization)                                                \n",
      "                                                                 \n",
      " activation_4 (Activation)   (None, 156, 64)           0         \n",
      "                                                                 \n",
      " max_pooling1d_4 (MaxPoolin  (None, 78, 64)            0         \n",
      " g1D)                                                            \n",
      "                                                                 \n",
      " spatial_dropout1d_4 (Spati  (None, 78, 64)            0         \n",
      " alDropout1D)                                                    \n",
      "                                                                 \n",
      " conv1d_5 (Conv1D)           (None, 78, 64)            12352     \n",
      "                                                                 \n",
      " batch_normalization_5 (Bat  (None, 78, 64)            256       \n",
      " chNormalization)                                                \n",
      "                                                                 \n",
      " activation_5 (Activation)   (None, 78, 64)            0         \n",
      "                                                                 \n",
      " max_pooling1d_5 (MaxPoolin  (None, 19, 64)            0         \n",
      " g1D)                                                            \n",
      "                                                                 \n",
      " spatial_dropout1d_5 (Spati  (None, 19, 64)            0         \n",
      " alDropout1D)                                                    \n",
      "                                                                 \n",
      " flatten (Flatten)           (None, 1216)              0         \n",
      "                                                                 \n",
      " dense (Dense)               (None, 64)                77888     \n",
      "                                                                 \n",
      " batch_normalization_6 (Bat  (None, 64)                256       \n",
      " chNormalization)                                                \n",
      "                                                                 \n",
      " activation_6 (Activation)   (None, 64)                0         \n",
      "                                                                 \n",
      " dropout (Dropout)           (None, 64)                0         \n",
      "                                                                 \n",
      " dense_1 (Dense)             (None, 32)                2080      \n",
      "                                                                 \n",
      " batch_normalization_7 (Bat  (None, 32)                128       \n",
      " chNormalization)                                                \n",
      "                                                                 \n",
      " activation_7 (Activation)   (None, 32)                0         \n",
      "                                                                 \n",
      " dropout_1 (Dropout)         (None, 32)                0         \n",
      "                                                                 \n",
      " dense_2 (Dense)             (None, 17)                561       \n",
      "                                                                 \n",
      "=================================================================\n",
      "Total params: 107457 (419.75 KB)\n",
      "Trainable params: 106817 (417.25 KB)\n",
      "Non-trainable params: 640 (2.50 KB)\n",
      "_________________________________________________________________\n",
      "None\n"
     ]
    }
   ],
   "source": [
    "conditions = ['1AVB', 'AF', 'AFIB', 'APB', 'AQW', 'IDC',\n",
    "              'LVH', 'LVQRSAL', 'RBBB', 'SR', 'ST',\n",
    "              'STDD', 'STE', 'STTC', 'SVT', 'TWC',\n",
    "              'TWO']\n",
    "\n",
    "output_size = len(conditions)\n",
    "model = Attia_et_al_CNN(output_size=output_size).build(input_shape=(5000, 1))"
   ]
  },
  {
   "cell_type": "code",
   "execution_count": 6,
   "metadata": {},
   "outputs": [
    {
     "name": "stdout",
     "output_type": "stream",
     "text": [
      "X shape: (45053, 5000, 1)\n",
      "y shape: (45053, 17)\n"
     ]
    }
   ],
   "source": [
    "# Load the data\n",
    "X, y = data_df['wf'].to_numpy(), data_df[conditions].to_numpy()\n",
    "y = y.astype(float)\n",
    "X = np.stack(X, axis=0)\n",
    "\n",
    "lead_labels = ['I', 'II', 'III', 'aVR', 'aVF', 'aVL', 'V1', 'V2', 'V3', 'V4', 'V5', 'V6']\n",
    "lead_idx = lead_labels.index(LEAD_NAME)\n",
    "X = X[:, :, lead_idx].reshape(-1, 5000, 1)\n",
    "\n",
    "del data_df\n",
    "\n",
    "print(f\"X shape: {X.shape}\")\n",
    "print(f\"y shape: {y.shape}\")"
   ]
  },
  {
   "cell_type": "code",
   "execution_count": 7,
   "metadata": {},
   "outputs": [],
   "source": [
    "# Split into train and test\n",
    "X_train, X_val, X_test, y_train, y_val, y_test = split_train_val_test(X, y, train_size=0.7, val_size=0.15)\n",
    "del X, y"
   ]
  },
  {
   "cell_type": "code",
   "execution_count": 8,
   "metadata": {},
   "outputs": [],
   "source": [
    "def generator(X, y, batch_size=8):\n",
    "    row_nums = np.arange(X.shape[0])\n",
    "    np.random.shuffle(row_nums)\n",
    "    for i in range(0, len(row_nums), batch_size):\n",
    "        current_idxs = row_nums[i:i+batch_size]\n",
    "\n",
    "        yield X[current_idxs], y[current_idxs,:]\n",
    "\n",
    "output_signature = (\n",
    "    tf.TensorSpec(shape=(None, 5000, 1), dtype=tf.float32),\n",
    "    tf.TensorSpec(shape=(None, output_size), dtype=tf.float32)\n",
    ")\n",
    "\n",
    "train_ds = tf.data.Dataset.from_generator(generator=lambda: generator(X_train,y_train, 8), output_signature=output_signature)\n",
    "val_ds = tf.data.Dataset.from_generator(generator=lambda: generator(X_val, y_val, 8), output_signature=output_signature)"
   ]
  },
  {
   "cell_type": "code",
   "execution_count": 9,
   "metadata": {},
   "outputs": [],
   "source": [
    "learning_rate =1e-3\n",
    "reduce_lr = tf.keras.callbacks.ReduceLROnPlateau(\n",
    "    monitor='val_loss',  # Monitor validation loss\n",
    "    factor=0.5,  # Reduce learning rate by half when triggered\n",
    "    patience=3,  # Number of epochs with no improvement to trigger the callback\n",
    "    verbose=1,  # Print messages\n",
    "    min_lr=1e-8  # Minimum learning rate\n",
    ")\n",
    "early_stopping = EarlyStopping(monitor='val_loss', patience=6, mode='min', restore_best_weights=True)\n",
    "model.compile(loss='binary_crossentropy', optimizer=tf.keras.optimizers.legacy.Adam(learning_rate=learning_rate), metrics=['accuracy', AUC(name='auc')])\n",
    "# Training parameters\n",
    "EPOCHS = 50  # You can adjust based on your needs\n",
    "\n"
   ]
  },
  {
   "cell_type": "code",
   "execution_count": 10,
   "metadata": {},
   "outputs": [
    {
     "name": "stdout",
     "output_type": "stream",
     "text": [
      "Epoch 1/50\n"
     ]
    },
    {
     "name": "stderr",
     "output_type": "stream",
     "text": [
      "2024-04-15 12:39:26.303665: I external/local_xla/xla/stream_executor/cuda/cuda_dnn.cc:454] Loaded cuDNN version 8904\n"
     ]
    },
    {
     "name": "stdout",
     "output_type": "stream",
     "text": [
      "   3943/Unknown - 61s 13ms/step - loss: 0.2112 - accuracy: 0.2170 - auc: 0.7626"
     ]
    },
    {
     "name": "stderr",
     "output_type": "stream",
     "text": [
      "2024-04-15 12:40:24.067845: I tensorflow/core/framework/local_rendezvous.cc:421] Local rendezvous recv item cancelled. Key hash: 12692995419261124534\n"
     ]
    },
    {
     "name": "stdout",
     "output_type": "stream",
     "text": [
      "3943/3943 [==============================] - 70s 15ms/step - loss: 0.2112 - accuracy: 0.2170 - auc: 0.7626 - val_loss: 0.1641 - val_accuracy: 0.3505 - val_auc: 0.8565 - lr: 0.0010\n",
      "Epoch 2/50\n",
      "   3/3943 [..............................] - ETA: 2:05 - loss: 0.1853 - accuracy: 0.1667 - auc: 0.8044"
     ]
    },
    {
     "name": "stderr",
     "output_type": "stream",
     "text": [
      "2024-04-15 12:40:33.347401: I tensorflow/core/framework/local_rendezvous.cc:421] Local rendezvous recv item cancelled. Key hash: 3263483216392039045\n",
      "2024-04-15 12:40:33.347424: I tensorflow/core/framework/local_rendezvous.cc:421] Local rendezvous recv item cancelled. Key hash: 14408449931047340520\n"
     ]
    },
    {
     "name": "stdout",
     "output_type": "stream",
     "text": [
      "3943/3943 [==============================] - 48s 12ms/step - loss: 0.1733 - accuracy: 0.3302 - auc: 0.8362 - val_loss: 0.1467 - val_accuracy: 0.4081 - val_auc: 0.8890 - lr: 0.0010\n",
      "Epoch 3/50\n",
      "3943/3943 [==============================] - 42s 11ms/step - loss: 0.1604 - accuracy: 0.3839 - auc: 0.8617 - val_loss: 0.1342 - val_accuracy: 0.4688 - val_auc: 0.9077 - lr: 0.0010\n",
      "Epoch 4/50\n",
      "3943/3943 [==============================] - 42s 11ms/step - loss: 0.1525 - accuracy: 0.4197 - auc: 0.8754 - val_loss: 0.1299 - val_accuracy: 0.4811 - val_auc: 0.9143 - lr: 0.0010\n",
      "Epoch 5/50\n",
      "3943/3943 [==============================] - 43s 11ms/step - loss: 0.1485 - accuracy: 0.4325 - auc: 0.8829 - val_loss: 0.1259 - val_accuracy: 0.4963 - val_auc: 0.9200 - lr: 0.0010\n",
      "Epoch 6/50\n",
      "3943/3943 [==============================] - 49s 12ms/step - loss: 0.1455 - accuracy: 0.4431 - auc: 0.8879 - val_loss: 0.1245 - val_accuracy: 0.5006 - val_auc: 0.9213 - lr: 0.0010\n",
      "Epoch 7/50\n",
      "3943/3943 [==============================] - 50s 13ms/step - loss: 0.1435 - accuracy: 0.4514 - auc: 0.8911 - val_loss: 0.1230 - val_accuracy: 0.5007 - val_auc: 0.9228 - lr: 0.0010\n",
      "Epoch 8/50\n",
      "3943/3943 [==============================] - 46s 12ms/step - loss: 0.1419 - accuracy: 0.4538 - auc: 0.8944 - val_loss: 0.1225 - val_accuracy: 0.5050 - val_auc: 0.9239 - lr: 0.0010\n",
      "Epoch 9/50\n",
      "3943/3943 [==============================] - 46s 12ms/step - loss: 0.1407 - accuracy: 0.4619 - auc: 0.8959 - val_loss: 0.1215 - val_accuracy: 0.5047 - val_auc: 0.9263 - lr: 0.0010\n",
      "Epoch 10/50\n",
      "3943/3943 [==============================] - 47s 12ms/step - loss: 0.1392 - accuracy: 0.4660 - auc: 0.8991 - val_loss: 0.1203 - val_accuracy: 0.5135 - val_auc: 0.9272 - lr: 0.0010\n",
      "Epoch 11/50\n",
      "3943/3943 [==============================] - 48s 12ms/step - loss: 0.1379 - accuracy: 0.4697 - auc: 0.9016 - val_loss: 0.1201 - val_accuracy: 0.5047 - val_auc: 0.9285 - lr: 0.0010\n",
      "Epoch 12/50\n",
      "3943/3943 [==============================] - 46s 12ms/step - loss: 0.1374 - accuracy: 0.4754 - auc: 0.9022 - val_loss: 0.1192 - val_accuracy: 0.5209 - val_auc: 0.9288 - lr: 0.0010\n",
      "Epoch 13/50\n",
      "3943/3943 [==============================] - 45s 11ms/step - loss: 0.1358 - accuracy: 0.4807 - auc: 0.9045 - val_loss: 0.1183 - val_accuracy: 0.5161 - val_auc: 0.9301 - lr: 0.0010\n",
      "Epoch 14/50\n",
      "3943/3943 [==============================] - 47s 12ms/step - loss: 0.1355 - accuracy: 0.4828 - auc: 0.9061 - val_loss: 0.1185 - val_accuracy: 0.5272 - val_auc: 0.9328 - lr: 0.0010\n",
      "Epoch 15/50\n",
      "3943/3943 [==============================] - 45s 11ms/step - loss: 0.1349 - accuracy: 0.4840 - auc: 0.9072 - val_loss: 0.1174 - val_accuracy: 0.5262 - val_auc: 0.9329 - lr: 0.0010\n",
      "Epoch 16/50\n",
      "3943/3943 [==============================] - 45s 11ms/step - loss: 0.1351 - accuracy: 0.4856 - auc: 0.9059 - val_loss: 0.1172 - val_accuracy: 0.5243 - val_auc: 0.9324 - lr: 0.0010\n",
      "Epoch 17/50\n",
      "3943/3943 [==============================] - 43s 11ms/step - loss: 0.1334 - accuracy: 0.4907 - auc: 0.9092 - val_loss: 0.1167 - val_accuracy: 0.5238 - val_auc: 0.9327 - lr: 0.0010\n",
      "Epoch 18/50\n",
      "3943/3943 [==============================] - 46s 12ms/step - loss: 0.1336 - accuracy: 0.4895 - auc: 0.9085 - val_loss: 0.1164 - val_accuracy: 0.5286 - val_auc: 0.9337 - lr: 0.0010\n",
      "Epoch 19/50\n",
      "3943/3943 [==============================] - 48s 12ms/step - loss: 0.1328 - accuracy: 0.4903 - auc: 0.9100 - val_loss: 0.1165 - val_accuracy: 0.5240 - val_auc: 0.9338 - lr: 0.0010\n",
      "Epoch 20/50\n",
      "3943/3943 [==============================] - 48s 12ms/step - loss: 0.1324 - accuracy: 0.4914 - auc: 0.9107 - val_loss: 0.1161 - val_accuracy: 0.5280 - val_auc: 0.9347 - lr: 0.0010\n",
      "Epoch 21/50\n",
      "3943/3943 [==============================] - 49s 13ms/step - loss: 0.1321 - accuracy: 0.4915 - auc: 0.9116 - val_loss: 0.1158 - val_accuracy: 0.5308 - val_auc: 0.9349 - lr: 0.0010\n",
      "Epoch 22/50\n",
      "3943/3943 [==============================] - 48s 12ms/step - loss: 0.1313 - accuracy: 0.4902 - auc: 0.9135 - val_loss: 0.1158 - val_accuracy: 0.5281 - val_auc: 0.9343 - lr: 0.0010\n",
      "Epoch 23/50\n",
      "3943/3943 [==============================] - 46s 12ms/step - loss: 0.1317 - accuracy: 0.4927 - auc: 0.9125 - val_loss: 0.1161 - val_accuracy: 0.5294 - val_auc: 0.9352 - lr: 0.0010\n",
      "Epoch 24/50\n",
      "3943/3943 [==============================] - 46s 12ms/step - loss: 0.1310 - accuracy: 0.4941 - auc: 0.9134 - val_loss: 0.1155 - val_accuracy: 0.5259 - val_auc: 0.9348 - lr: 0.0010\n",
      "Epoch 25/50\n",
      "3943/3943 [==============================] - 45s 11ms/step - loss: 0.1313 - accuracy: 0.4923 - auc: 0.9131 - val_loss: 0.1156 - val_accuracy: 0.5280 - val_auc: 0.9351 - lr: 0.0010\n",
      "Epoch 26/50\n",
      "3943/3943 [==============================] - 46s 12ms/step - loss: 0.1306 - accuracy: 0.4954 - auc: 0.9139 - val_loss: 0.1152 - val_accuracy: 0.5328 - val_auc: 0.9364 - lr: 0.0010\n",
      "Epoch 27/50\n",
      "3943/3943 [==============================] - 45s 12ms/step - loss: 0.1297 - accuracy: 0.4953 - auc: 0.9154 - val_loss: 0.1154 - val_accuracy: 0.5300 - val_auc: 0.9354 - lr: 0.0010\n",
      "Epoch 28/50\n",
      "3943/3943 [==============================] - 46s 12ms/step - loss: 0.1300 - accuracy: 0.4945 - auc: 0.9155 - val_loss: 0.1146 - val_accuracy: 0.5337 - val_auc: 0.9371 - lr: 0.0010\n",
      "Epoch 29/50\n",
      "3943/3943 [==============================] - 46s 12ms/step - loss: 0.1298 - accuracy: 0.4950 - auc: 0.9154 - val_loss: 0.1145 - val_accuracy: 0.5318 - val_auc: 0.9369 - lr: 0.0010\n",
      "Epoch 30/50\n",
      "3943/3943 [==============================] - 41s 10ms/step - loss: 0.1298 - accuracy: 0.4975 - auc: 0.9157 - val_loss: 0.1150 - val_accuracy: 0.5308 - val_auc: 0.9355 - lr: 0.0010\n",
      "Epoch 31/50\n",
      "3943/3943 [==============================] - 45s 12ms/step - loss: 0.1298 - accuracy: 0.4965 - auc: 0.9159 - val_loss: 0.1145 - val_accuracy: 0.5321 - val_auc: 0.9365 - lr: 0.0010\n",
      "Epoch 32/50\n",
      "3940/3943 [============================>.] - ETA: 0s - loss: 0.1288 - accuracy: 0.4969 - auc: 0.9167\n",
      "Epoch 32: ReduceLROnPlateau reducing learning rate to 0.0005000000237487257.\n",
      "3943/3943 [==============================] - 48s 12ms/step - loss: 0.1288 - accuracy: 0.4969 - auc: 0.9167 - val_loss: 0.1145 - val_accuracy: 0.5252 - val_auc: 0.9363 - lr: 0.0010\n",
      "Epoch 33/50\n",
      "3943/3943 [==============================] - 48s 12ms/step - loss: 0.1281 - accuracy: 0.4979 - auc: 0.9179 - val_loss: 0.1139 - val_accuracy: 0.5326 - val_auc: 0.9377 - lr: 5.0000e-04\n",
      "Epoch 34/50\n",
      "3943/3943 [==============================] - 47s 12ms/step - loss: 0.1276 - accuracy: 0.4992 - auc: 0.9190 - val_loss: 0.1141 - val_accuracy: 0.5302 - val_auc: 0.9369 - lr: 5.0000e-04\n",
      "Epoch 35/50\n",
      "3943/3943 [==============================] - 46s 12ms/step - loss: 0.1274 - accuracy: 0.5026 - auc: 0.9187 - val_loss: 0.1138 - val_accuracy: 0.5294 - val_auc: 0.9380 - lr: 5.0000e-04\n",
      "Epoch 36/50\n",
      "3943/3943 [==============================] - 48s 12ms/step - loss: 0.1270 - accuracy: 0.4995 - auc: 0.9196 - val_loss: 0.1136 - val_accuracy: 0.5315 - val_auc: 0.9381 - lr: 5.0000e-04\n",
      "Epoch 37/50\n",
      "3943/3943 [==============================] - 47s 12ms/step - loss: 0.1266 - accuracy: 0.5018 - auc: 0.9204 - val_loss: 0.1136 - val_accuracy: 0.5357 - val_auc: 0.9382 - lr: 5.0000e-04\n",
      "Epoch 38/50\n",
      "3943/3943 [==============================] - 48s 12ms/step - loss: 0.1263 - accuracy: 0.5016 - auc: 0.9206 - val_loss: 0.1138 - val_accuracy: 0.5283 - val_auc: 0.9375 - lr: 5.0000e-04\n",
      "Epoch 39/50\n",
      "3943/3943 [==============================] - 46s 12ms/step - loss: 0.1268 - accuracy: 0.5021 - auc: 0.9203 - val_loss: 0.1134 - val_accuracy: 0.5292 - val_auc: 0.9380 - lr: 5.0000e-04\n",
      "Epoch 40/50\n",
      "3943/3943 [==============================] - 47s 12ms/step - loss: 0.1265 - accuracy: 0.5004 - auc: 0.9203 - val_loss: 0.1135 - val_accuracy: 0.5346 - val_auc: 0.9380 - lr: 5.0000e-04\n",
      "Epoch 41/50\n",
      "3943/3943 [==============================] - 47s 12ms/step - loss: 0.1266 - accuracy: 0.5003 - auc: 0.9205 - val_loss: 0.1137 - val_accuracy: 0.5320 - val_auc: 0.9379 - lr: 5.0000e-04\n",
      "Epoch 42/50\n",
      "3941/3943 [============================>.] - ETA: 0s - loss: 0.1261 - accuracy: 0.5025 - auc: 0.9211\n",
      "Epoch 42: ReduceLROnPlateau reducing learning rate to 0.0002500000118743628.\n",
      "3943/3943 [==============================] - 47s 12ms/step - loss: 0.1261 - accuracy: 0.5025 - auc: 0.9211 - val_loss: 0.1135 - val_accuracy: 0.5357 - val_auc: 0.9378 - lr: 5.0000e-04\n",
      "Epoch 43/50\n",
      "3943/3943 [==============================] - 42s 11ms/step - loss: 0.1262 - accuracy: 0.5017 - auc: 0.9205 - val_loss: 0.1131 - val_accuracy: 0.5343 - val_auc: 0.9387 - lr: 2.5000e-04\n",
      "Epoch 44/50\n",
      "3943/3943 [==============================] - 47s 12ms/step - loss: 0.1253 - accuracy: 0.5050 - auc: 0.9224 - val_loss: 0.1131 - val_accuracy: 0.5339 - val_auc: 0.9384 - lr: 2.5000e-04\n",
      "Epoch 45/50\n",
      "3943/3943 [==============================] - 47s 12ms/step - loss: 0.1256 - accuracy: 0.5049 - auc: 0.9214 - val_loss: 0.1129 - val_accuracy: 0.5343 - val_auc: 0.9388 - lr: 2.5000e-04\n",
      "Epoch 46/50\n",
      "3943/3943 [==============================] - 48s 12ms/step - loss: 0.1251 - accuracy: 0.5057 - auc: 0.9223 - val_loss: 0.1130 - val_accuracy: 0.5326 - val_auc: 0.9391 - lr: 2.5000e-04\n",
      "Epoch 47/50\n",
      "3943/3943 [==============================] - 46s 12ms/step - loss: 0.1254 - accuracy: 0.5019 - auc: 0.9222 - val_loss: 0.1129 - val_accuracy: 0.5331 - val_auc: 0.9388 - lr: 2.5000e-04\n",
      "Epoch 48/50\n",
      "3938/3943 [============================>.] - ETA: 0s - loss: 0.1252 - accuracy: 0.5030 - auc: 0.9229\n",
      "Epoch 48: ReduceLROnPlateau reducing learning rate to 0.0001250000059371814.\n",
      "3943/3943 [==============================] - 47s 12ms/step - loss: 0.1252 - accuracy: 0.5030 - auc: 0.9228 - val_loss: 0.1129 - val_accuracy: 0.5337 - val_auc: 0.9389 - lr: 2.5000e-04\n",
      "Epoch 49/50\n",
      "3943/3943 [==============================] - 48s 12ms/step - loss: 0.1248 - accuracy: 0.5040 - auc: 0.9232 - val_loss: 0.1130 - val_accuracy: 0.5333 - val_auc: 0.9389 - lr: 1.2500e-04\n",
      "Epoch 50/50\n",
      "3943/3943 [==============================] - 46s 12ms/step - loss: 0.1246 - accuracy: 0.5063 - auc: 0.9236 - val_loss: 0.1130 - val_accuracy: 0.5339 - val_auc: 0.9386 - lr: 1.2500e-04\n"
     ]
    }
   ],
   "source": [
    "history = model.fit(train_ds,\n",
    "    epochs=EPOCHS,\n",
    "    shuffle=True,\n",
    "    validation_data=val_ds,\n",
    "    callbacks=[reduce_lr, early_stopping],\n",
    "    verbose=1)"
   ]
  },
  {
   "cell_type": "code",
   "execution_count": 12,
   "metadata": {},
   "outputs": [
    {
     "name": "stdout",
     "output_type": "stream",
     "text": [
      "212/212 [==============================] - 2s 3ms/step\n",
      "1AVB: 0.9600359608745684\n",
      "AF: 0.9650265722301078\n",
      "AFIB: 0.9210275016343574\n",
      "APB: 0.8143991749705347\n",
      "AQW: 0.7236144063156688\n",
      "IDC: 0.8771143901231042\n",
      "LVH: 0.8839283688265127\n",
      "LVQRSAL: 0.6606830298296902\n",
      "RBBB: 0.9078223039695275\n",
      "SR: 0.9795669894637579\n",
      "ST: 0.9936498210395269\n",
      "STDD: 0.8408127534916272\n",
      "STE: 0.7015855216023426\n",
      "STTC: 0.7613098608239957\n",
      "SVT: 0.9912106043049496\n",
      "TWC: 0.7743667597734711\n",
      "TWO: 0.8530909778386152\n"
     ]
    }
   ],
   "source": [
    "from sklearn.metrics import roc_auc_score\n",
    "\n",
    "y_pred = model.predict(X_test)\n",
    "\n",
    "for i, condition in enumerate(conditions):\n",
    "    auc = roc_auc_score(y_test[:,i], y_pred[:,i])\n",
    "    print(f\"{condition}: {auc}\")"
   ]
  },
  {
   "cell_type": "code",
   "execution_count": 11,
   "metadata": {},
   "outputs": [],
   "source": [
    "save_dir = f'models/single-lead'\n",
    "if not os.path.exists(save_dir):\n",
    "    os.makedirs(save_dir)\n",
    "model.save(f'{save_dir}/mult_output_cnn_{LEAD_NAME}.keras')"
   ]
  }
 ],
 "metadata": {
  "kernelspec": {
   "display_name": ".venv",
   "language": "python",
   "name": "python3"
  },
  "language_info": {
   "codemirror_mode": {
    "name": "ipython",
    "version": 3
   },
   "file_extension": ".py",
   "mimetype": "text/x-python",
   "name": "python",
   "nbconvert_exporter": "python",
   "pygments_lexer": "ipython3",
   "version": "3.10.12"
  }
 },
 "nbformat": 4,
 "nbformat_minor": 2
}
