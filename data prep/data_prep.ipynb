{
 "cells": [
  {
   "cell_type": "markdown",
   "metadata": {},
   "source": [
    "# Code to prepare data from arrythmia dataset\n",
    "\n",
    "## Detailed description\n",
    "The arrythmia dataset contains diagnoses in the `.hea` file for each ECG as a diagnosis code (with the mapping from diagnosis codes to condition names and abbreviations stored in `ConditionNames_SNOMED-CT.csv`). This is not ideal to work with, so instead we create `arrythmia_dataset.pickle` with a dataframe of all the data, organized into a table with the following format:\n",
    "\n",
    "|        | rec_id  | wf                                               | AFIB | RBBB | TWC | ... | AVRT | SA |\n",
    "|--------|---------|--------------------------------------------------|------|------|-----|-----|------|----|\n",
    "| 0      | JS00001 | [[-0.254, 0.264, 0.517, -0.005, -0.386, 0.39, ... | 1    | 1    | 1   | ... | 0    | 0  |\n",
    "| 1      | JS00002 | [[-0.01, 0.01, 0.02, 0.0, -0.015, 0.015, -0.01... | 0    | 0    | 1   | ... | 0    | 0  |\n",
    "| 2      | JS00004 | [[0.195, 0.107, -0.088, -0.151, 0.142, 0.01, -... | 0    | 0    | 0   | ... | 0    | 0  |\n",
    "| 3      | JS00005 | [[0.005, -0.146, -0.151, 0.073, 0.078, -0.151,... | 0    | 0    | 0   | ... | 0    | 0  |\n",
    "| 4      | JS00006 | [[-0.029, -0.068, -0.039, 0.049, 0.005, -0.054... | 0    | 0    | 0   | ... | 0    | 0  |\n",
    "\n",
    "\n",
    "Here, `rec_id` is the ECG name, `wf` is the raw `(5000, 12)` 12-lead ECG (sampled for 10s at 500Hz) and `AFIB,...,SA` are the 52 labeled conditions, with `1` indicating the presence of the condition, and `0` its absence. We also remove `wf` entries with `NaN` values or an unreadable `.hea` file (total of 99 records, out of 45,152)."
   ]
  },
  {
   "cell_type": "code",
   "execution_count": 1,
   "metadata": {},
   "outputs": [
    {
     "name": "stderr",
     "output_type": "stream",
     "text": [
      "/tmp/ipykernel_68779/105588533.py:1: DeprecationWarning: \n",
      "Pyarrow will become a required dependency of pandas in the next major release of pandas (pandas 3.0),\n",
      "(to allow more performant data types, such as the Arrow string type, and better interoperability with other libraries)\n",
      "but was not found to be installed on your system.\n",
      "If this would cause problems for you,\n",
      "please provide us feedback at https://github.com/pandas-dev/pandas/issues/54466\n",
      "        \n",
      "  import pandas as pd\n"
     ]
    }
   ],
   "source": [
    "import pandas as pd\n",
    "import numpy as np\n",
    "import wfdb\n",
    "import os\n",
    "from tqdm import tqdm\n",
    "import re \n",
    "from utils import get_arrythmia_path"
   ]
  },
  {
   "cell_type": "markdown",
   "metadata": {},
   "source": [
    "Load the condition -> diagnosis number mappings (to reference with `.hea` files)"
   ]
  },
  {
   "cell_type": "code",
   "execution_count": 2,
   "metadata": {},
   "outputs": [],
   "source": [
    "dataset_path = \"/cis/home/charr165/Documents/physionet.org/files/ecg-arrhythmia/1.0.0\"\n",
    "\n",
    "f_path = os.path.join(dataset_path, 'ConditionNames_SNOMED-CT.csv')\n",
    "cond_names_df = pd.read_csv(f_path)"
   ]
  },
  {
   "cell_type": "markdown",
   "metadata": {},
   "source": [
    "Get all the `WFDBRecords` (`rec_id` and corresponding path) contained in the `arrythmia_path` (specified in `config.json`)."
   ]
  },
  {
   "cell_type": "code",
   "execution_count": 3,
   "metadata": {},
   "outputs": [
    {
     "name": "stdout",
     "output_type": "stream",
     "text": [
      "Total number of records: 45152\n"
     ]
    }
   ],
   "source": [
    "records_path = os.path.join(dataset_path, 'WFDBRecords')\n",
    "\n",
    "record_paths_dict = {'rec_id': [], 'rec_path': []}\n",
    "\n",
    "# List all folders in the records path\n",
    "first_lvl_dirs = os.listdir(records_path)\n",
    "first_lvl_dirs = [f for f in first_lvl_dirs if os.path.isdir(os.path.join(records_path, f))]\n",
    "\n",
    "for first_lvl_dir in first_lvl_dirs:\n",
    "    second_lvl_dirs = os.listdir(os.path.join(records_path, first_lvl_dir))\n",
    "    second_lvl_dirs = [f for f in second_lvl_dirs if os.path.isdir(os.path.join(records_path, first_lvl_dir, f))]\n",
    "\n",
    "    for second_lvl_dir in second_lvl_dirs:\n",
    "        # Get all .hea files in the second level directory\n",
    "        f_path = os.path.join(records_path, first_lvl_dir, second_lvl_dir)\n",
    "        files = os.listdir(f_path)\n",
    "        hea_files = [f for f in files if f.endswith('.hea')]\n",
    "\n",
    "        for f in hea_files:\n",
    "            record_name = f.split('.')[0]\n",
    "            record_paths_dict['rec_id'].append(record_name)\n",
    "            record_paths_dict['rec_path'].append(os.path.join(records_path, first_lvl_dir, second_lvl_dir, record_name))\n",
    "\n",
    "records_path_df = pd.DataFrame(record_paths_dict)\n",
    "\n",
    "print(f\"Total number of records: {len(records_path_df)}\")"
   ]
  },
  {
   "cell_type": "markdown",
   "metadata": {},
   "source": [
    "Functions to read into record info (from `.hea` files) and waveforms (from `.mat` files)."
   ]
  },
  {
   "cell_type": "code",
   "execution_count": 4,
   "metadata": {},
   "outputs": [],
   "source": [
    "def get_record_info(record_path):\n",
    "    record = wfdb.rdrecord(record_path)\n",
    "    rec_id = record.record_name\n",
    "    comments = record.comments\n",
    "\n",
    "    age, sex, dx, dx_nums = None, None, None, None\n",
    "    for comment in comments:\n",
    "        if 'Age' in comment:\n",
    "            match = re.search(r'Age: (\\d+)', comment)\n",
    "            if match:\n",
    "                age = int(match.group(1))\n",
    "\n",
    "        if 'Sex' in comment:\n",
    "            if 'Male' in comment:\n",
    "                sex = 'M'\n",
    "            elif 'Female' in comment:\n",
    "                sex = 'F'\n",
    "        \n",
    "        if \"Dx: \" in comment:\n",
    "            match = re.findall(r'\\d+', comment.replace(',', ' '))\n",
    "            if match:\n",
    "                dx_nums = [int(num) for num in match]\n",
    "\n",
    "    if dx_nums is not None:\n",
    "        dx = []\n",
    "        for num in dx_nums:\n",
    "            curr_cond = cond_names_df[cond_names_df['Snomed_CT'] == num]\n",
    "            curr_dx = {}\n",
    "            if curr_cond.empty:\n",
    "                curr_dx['acronym'] = None\n",
    "                curr_dx['name'] = None\n",
    "                curr_dx['num'] = num\n",
    "            else:\n",
    "                curr_dx['acronym'] = curr_cond['Acronym Name'].values[0]\n",
    "                curr_dx['name'] = curr_cond['Full Name'].values[0]\n",
    "                curr_dx['num'] = num\n",
    "            \n",
    "            dx.append(curr_dx)\n",
    "\n",
    "    return rec_id, age, sex, dx\n",
    "\n",
    "def get_record_wf(record_path):\n",
    "    record = wfdb.rdrecord(record_path)\n",
    "    return record.p_signal"
   ]
  },
  {
   "cell_type": "markdown",
   "metadata": {},
   "source": [
    "Get the sex, age, and diagnoses name/abbreviation for each ECG"
   ]
  },
  {
   "cell_type": "code",
   "execution_count": 5,
   "metadata": {},
   "outputs": [
    {
     "name": "stderr",
     "output_type": "stream",
     "text": [
      "  2%|▏         | 1012/45152 [00:10<07:03, 104.16it/s]"
     ]
    },
    {
     "name": "stdout",
     "output_type": "stream",
     "text": [
      "Failed to process record: /cis/home/charr165/Documents/physionet.org/files/ecg-arrhythmia/1.0.0/WFDBRecords/01/019/JS01052\n"
     ]
    },
    {
     "name": "stderr",
     "output_type": "stream",
     "text": [
      " 50%|█████     | 22695/45152 [04:39<03:36, 103.58it/s]"
     ]
    },
    {
     "name": "stdout",
     "output_type": "stream",
     "text": [
      "Failed to process record: /cis/home/charr165/Documents/physionet.org/files/ecg-arrhythmia/1.0.0/WFDBRecords/23/236/JS23074\n"
     ]
    },
    {
     "name": "stderr",
     "output_type": "stream",
     "text": [
      "100%|██████████| 45152/45152 [09:32<00:00, 78.92it/s] "
     ]
    },
    {
     "name": "stdout",
     "output_type": "stream",
     "text": [
      "Failed to process 2 records\n"
     ]
    },
    {
     "name": "stderr",
     "output_type": "stream",
     "text": [
      "\n"
     ]
    }
   ],
   "source": [
    "n_fails = 0\n",
    "records_info = pd.DataFrame()\n",
    "for rec_path in tqdm(records_path_df['rec_path'], total=records_path_df.shape[0]):\n",
    "    try:\n",
    "        rec_id, age, sex, dxs = get_record_info(rec_path)\n",
    "        for dx in dxs:\n",
    "            tmp_dict = {'rec_id': rec_id, 'age': age, 'Dx_acronym': dx['acronym'], 'Dx_name': dx['name'], 'Dx_num': dx['num'],}\n",
    "            records_info = pd.concat([records_info, pd.DataFrame(tmp_dict, index=[0])], ignore_index=True)\n",
    "    except:\n",
    "        n_fails += 1\n",
    "        print(f'Failed to process record: {rec_path}')\n",
    "\n",
    "print(f'Failed to process {n_fails} records')"
   ]
  },
  {
   "cell_type": "markdown",
   "metadata": {},
   "source": [
    "Get labels for each ECG, such that the label is `1` if the condition is present, and `0` if not."
   ]
  },
  {
   "cell_type": "code",
   "execution_count": 6,
   "metadata": {},
   "outputs": [
    {
     "name": "stderr",
     "output_type": "stream",
     "text": [
      "100%|██████████| 45150/45150 [03:15<00:00, 230.68it/s]"
     ]
    },
    {
     "name": "stdout",
     "output_type": "stream",
     "text": [
      "        rec_id AFIB RBBB TWC SB AF STDD STTC SR None  ... WAVN JPT VB 2AVB1  \\\n",
      "0      JS00001    1    1   1  0  0    0    0  0    0  ...    0   0  0     0   \n",
      "1      JS00002    0    0   1  1  0    0    0  0    0  ...    0   0  0     0   \n",
      "2      JS00004    0    0   0  1  0    0    0  0    0  ...    0   0  0     0   \n",
      "3      JS00005    0    0   0  0  1    1    1  0    0  ...    0   0  0     0   \n",
      "4      JS00006    0    0   0  1  0    0    0  0    0  ...    0   0  0     0   \n",
      "...        ...  ...  ...  .. .. ..  ...  ... ..  ...  ...  ...  .. ..   ...   \n",
      "45145  JS45547    0    0   0  0  0    0    0  0    1  ...    0   0  0     0   \n",
      "45146  JS45548    0    0   0  0  0    0    0  0    1  ...    0   0  0     0   \n",
      "45147  JS45549    0    0   0  0  0    0    0  0    1  ...    0   0  0     0   \n",
      "45148  JS45550    0    0   0  0  0    0    0  0    1  ...    0   0  0     0   \n",
      "45149  JS45551    0    0   0  0  0    0    0  0    1  ...    0   0  0     0   \n",
      "\n",
      "      VFW STE SVT AT AVRT SA  \n",
      "0       0   0   0  0    0  0  \n",
      "1       0   0   0  0    0  0  \n",
      "2       0   0   0  0    0  0  \n",
      "3       0   0   0  0    0  0  \n",
      "4       0   0   0  0    0  0  \n",
      "...    ..  ..  .. ..  ... ..  \n",
      "45145   0   0   0  0    0  0  \n",
      "45146   0   0   0  0    0  0  \n",
      "45147   0   0   0  0    0  0  \n",
      "45148   0   0   0  0    1  0  \n",
      "45149   0   0   0  0    0  0  \n",
      "\n",
      "[45150 rows x 53 columns]\n"
     ]
    },
    {
     "name": "stderr",
     "output_type": "stream",
     "text": [
      "\n"
     ]
    }
   ],
   "source": [
    "unique_conditions = records_info['Dx_acronym'].unique()\n",
    "\n",
    "labels_df = pd.DataFrame(columns=['rec_id'] + unique_conditions.tolist())\n",
    "rec_ids = records_info['rec_id'].unique()\n",
    "labels_df['rec_id'] = rec_ids\n",
    "\n",
    "for i, rec_id in tqdm(enumerate(rec_ids), total=len(rec_ids)):\n",
    "    subject_labels = records_info[records_info['rec_id'] == rec_id]\n",
    "\n",
    "    for condition in unique_conditions:\n",
    "        if condition in subject_labels['Dx_acronym'].values:\n",
    "            labels_df.at[i, condition] = 1\n",
    "        else:\n",
    "            labels_df.at[i, condition] = 0\n",
    "\n",
    "# labels_df['GSVT'] = labels_df['SVT'] + labels_df['AT'] + labels_df['AVNRT'] + labels_df['AVRT'] + labels_df['SAAWR']\n",
    "print(labels_df)"
   ]
  },
  {
   "cell_type": "markdown",
   "metadata": {},
   "source": [
    "Get `(5000,12)` dimensional waveforms for each ECG, as a `np` array."
   ]
  },
  {
   "cell_type": "code",
   "execution_count": 7,
   "metadata": {},
   "outputs": [
    {
     "name": "stderr",
     "output_type": "stream",
     "text": [
      "100%|██████████| 45152/45152 [02:50<00:00, 264.15it/s]"
     ]
    },
    {
     "name": "stdout",
     "output_type": "stream",
     "text": [
      "Failed to process 2 records\n"
     ]
    },
    {
     "name": "stderr",
     "output_type": "stream",
     "text": [
      "\n"
     ]
    }
   ],
   "source": [
    "n_fails = 0\n",
    "records_wf = pd.DataFrame()\n",
    "for i, rec_path in tqdm(enumerate(records_path_df['rec_path']), total=records_path_df.shape[0]):\n",
    "    try:\n",
    "        wf = get_record_wf(rec_path)\n",
    "        tmp_dict = {'rec_id': records_path_df['rec_id'].iloc[i], 'wf': [wf]}\n",
    "        records_wf = pd.concat([records_wf, pd.DataFrame(tmp_dict, index=[0])], ignore_index=True)\n",
    "    except:\n",
    "        n_fails += 1\n",
    "\n",
    "print(f'Failed to process {n_fails} records')"
   ]
  },
  {
   "cell_type": "markdown",
   "metadata": {},
   "source": [
    "Merge waveforms and conditions, then drop rows with any NaN waveforms (should be 97 rows in total with NaN values anywhere in the raw WF)."
   ]
  },
  {
   "cell_type": "code",
   "execution_count": 8,
   "metadata": {},
   "outputs": [
    {
     "name": "stdout",
     "output_type": "stream",
     "text": [
      "Total records: 45150\n",
      "WF records: 45150\n",
      "Labels records: 45150\n",
      "Removed 97 records with NaN values in wf\n"
     ]
    },
    {
     "data": {
      "text/html": [
       "<div>\n",
       "<style scoped>\n",
       "    .dataframe tbody tr th:only-of-type {\n",
       "        vertical-align: middle;\n",
       "    }\n",
       "\n",
       "    .dataframe tbody tr th {\n",
       "        vertical-align: top;\n",
       "    }\n",
       "\n",
       "    .dataframe thead th {\n",
       "        text-align: right;\n",
       "    }\n",
       "</style>\n",
       "<table border=\"1\" class=\"dataframe\">\n",
       "  <thead>\n",
       "    <tr style=\"text-align: right;\">\n",
       "      <th></th>\n",
       "      <th>rec_id</th>\n",
       "      <th>wf</th>\n",
       "      <th>AFIB</th>\n",
       "      <th>RBBB</th>\n",
       "      <th>TWC</th>\n",
       "      <th>SB</th>\n",
       "      <th>AF</th>\n",
       "      <th>STDD</th>\n",
       "      <th>STTC</th>\n",
       "      <th>SR</th>\n",
       "      <th>...</th>\n",
       "      <th>WAVN</th>\n",
       "      <th>JPT</th>\n",
       "      <th>VB</th>\n",
       "      <th>2AVB1</th>\n",
       "      <th>VFW</th>\n",
       "      <th>STE</th>\n",
       "      <th>SVT</th>\n",
       "      <th>AT</th>\n",
       "      <th>AVRT</th>\n",
       "      <th>SA</th>\n",
       "    </tr>\n",
       "  </thead>\n",
       "  <tbody>\n",
       "    <tr>\n",
       "      <th>0</th>\n",
       "      <td>JS00001</td>\n",
       "      <td>[[-0.254, 0.264, 0.517, -0.005, -0.386, 0.39, ...</td>\n",
       "      <td>1</td>\n",
       "      <td>1</td>\n",
       "      <td>1</td>\n",
       "      <td>0</td>\n",
       "      <td>0</td>\n",
       "      <td>0</td>\n",
       "      <td>0</td>\n",
       "      <td>0</td>\n",
       "      <td>...</td>\n",
       "      <td>0</td>\n",
       "      <td>0</td>\n",
       "      <td>0</td>\n",
       "      <td>0</td>\n",
       "      <td>0</td>\n",
       "      <td>0</td>\n",
       "      <td>0</td>\n",
       "      <td>0</td>\n",
       "      <td>0</td>\n",
       "      <td>0</td>\n",
       "    </tr>\n",
       "    <tr>\n",
       "      <th>1</th>\n",
       "      <td>JS00002</td>\n",
       "      <td>[[-0.01, 0.01, 0.02, 0.0, -0.015, 0.015, -0.01...</td>\n",
       "      <td>0</td>\n",
       "      <td>0</td>\n",
       "      <td>1</td>\n",
       "      <td>1</td>\n",
       "      <td>0</td>\n",
       "      <td>0</td>\n",
       "      <td>0</td>\n",
       "      <td>0</td>\n",
       "      <td>...</td>\n",
       "      <td>0</td>\n",
       "      <td>0</td>\n",
       "      <td>0</td>\n",
       "      <td>0</td>\n",
       "      <td>0</td>\n",
       "      <td>0</td>\n",
       "      <td>0</td>\n",
       "      <td>0</td>\n",
       "      <td>0</td>\n",
       "      <td>0</td>\n",
       "    </tr>\n",
       "    <tr>\n",
       "      <th>2</th>\n",
       "      <td>JS00004</td>\n",
       "      <td>[[0.195, 0.107, -0.088, -0.151, 0.142, 0.01, -...</td>\n",
       "      <td>0</td>\n",
       "      <td>0</td>\n",
       "      <td>0</td>\n",
       "      <td>1</td>\n",
       "      <td>0</td>\n",
       "      <td>0</td>\n",
       "      <td>0</td>\n",
       "      <td>0</td>\n",
       "      <td>...</td>\n",
       "      <td>0</td>\n",
       "      <td>0</td>\n",
       "      <td>0</td>\n",
       "      <td>0</td>\n",
       "      <td>0</td>\n",
       "      <td>0</td>\n",
       "      <td>0</td>\n",
       "      <td>0</td>\n",
       "      <td>0</td>\n",
       "      <td>0</td>\n",
       "    </tr>\n",
       "    <tr>\n",
       "      <th>3</th>\n",
       "      <td>JS00005</td>\n",
       "      <td>[[0.005, -0.146, -0.151, 0.073, 0.078, -0.151,...</td>\n",
       "      <td>0</td>\n",
       "      <td>0</td>\n",
       "      <td>0</td>\n",
       "      <td>0</td>\n",
       "      <td>1</td>\n",
       "      <td>1</td>\n",
       "      <td>1</td>\n",
       "      <td>0</td>\n",
       "      <td>...</td>\n",
       "      <td>0</td>\n",
       "      <td>0</td>\n",
       "      <td>0</td>\n",
       "      <td>0</td>\n",
       "      <td>0</td>\n",
       "      <td>0</td>\n",
       "      <td>0</td>\n",
       "      <td>0</td>\n",
       "      <td>0</td>\n",
       "      <td>0</td>\n",
       "    </tr>\n",
       "    <tr>\n",
       "      <th>4</th>\n",
       "      <td>JS00006</td>\n",
       "      <td>[[-0.029, -0.068, -0.039, 0.049, 0.005, -0.054...</td>\n",
       "      <td>0</td>\n",
       "      <td>0</td>\n",
       "      <td>0</td>\n",
       "      <td>1</td>\n",
       "      <td>0</td>\n",
       "      <td>0</td>\n",
       "      <td>0</td>\n",
       "      <td>0</td>\n",
       "      <td>...</td>\n",
       "      <td>0</td>\n",
       "      <td>0</td>\n",
       "      <td>0</td>\n",
       "      <td>0</td>\n",
       "      <td>0</td>\n",
       "      <td>0</td>\n",
       "      <td>0</td>\n",
       "      <td>0</td>\n",
       "      <td>0</td>\n",
       "      <td>0</td>\n",
       "    </tr>\n",
       "  </tbody>\n",
       "</table>\n",
       "<p>5 rows × 54 columns</p>\n",
       "</div>"
      ],
      "text/plain": [
       "    rec_id                                                 wf AFIB RBBB TWC  \\\n",
       "0  JS00001  [[-0.254, 0.264, 0.517, -0.005, -0.386, 0.39, ...    1    1   1   \n",
       "1  JS00002  [[-0.01, 0.01, 0.02, 0.0, -0.015, 0.015, -0.01...    0    0   1   \n",
       "2  JS00004  [[0.195, 0.107, -0.088, -0.151, 0.142, 0.01, -...    0    0   0   \n",
       "3  JS00005  [[0.005, -0.146, -0.151, 0.073, 0.078, -0.151,...    0    0   0   \n",
       "4  JS00006  [[-0.029, -0.068, -0.039, 0.049, 0.005, -0.054...    0    0   0   \n",
       "\n",
       "  SB AF STDD STTC SR  ... WAVN JPT VB 2AVB1 VFW STE SVT AT AVRT SA  \n",
       "0  0  0    0    0  0  ...    0   0  0     0   0   0   0  0    0  0  \n",
       "1  1  0    0    0  0  ...    0   0  0     0   0   0   0  0    0  0  \n",
       "2  1  0    0    0  0  ...    0   0  0     0   0   0   0  0    0  0  \n",
       "3  0  1    1    1  0  ...    0   0  0     0   0   0   0  0    0  0  \n",
       "4  1  0    0    0  0  ...    0   0  0     0   0   0   0  0    0  0  \n",
       "\n",
       "[5 rows x 54 columns]"
      ]
     },
     "execution_count": 8,
     "metadata": {},
     "output_type": "execute_result"
    }
   ],
   "source": [
    "final_df = pd.merge(records_wf, labels_df, on='rec_id', how='inner')\n",
    "final_df = final_df.sort_values(by='rec_id')\n",
    "final_df.reset_index(drop=True, inplace=True)\n",
    "print(f\"Total records: {final_df.shape[0]}\")\n",
    "print(f\"WF records: {records_wf.shape[0]}\")\n",
    "print(f\"Labels records: {labels_df.shape[0]}\")\n",
    "\n",
    "# Iterate through final_df, and remove any records that have any nan in wf\n",
    "nan_rows = []\n",
    "for i, row in final_df.iterrows():\n",
    "    if np.isnan(row['wf']).any():\n",
    "        nan_rows.append(i)\n",
    "\n",
    "final_df = final_df.drop(nan_rows)\n",
    "\n",
    "print(f\"Removed {len(nan_rows)} records with NaN values in wf\")\n",
    "\n",
    "final_df.head(5)"
   ]
  },
  {
   "cell_type": "markdown",
   "metadata": {},
   "source": [
    "Save datafrmae to `arrythmia_dataset.pickle`."
   ]
  },
  {
   "cell_type": "code",
   "execution_count": 9,
   "metadata": {},
   "outputs": [],
   "source": [
    "# Save the final dataframe\n",
    "os.makedirs('data', exist_ok=True)\n",
    "final_df.to_pickle('data/arrythmia_dataset.pickle')\n",
    "\n",
    "# Save the final dataframe\n",
    "debug_df = final_df.head(2000)\n",
    "debug_df.to_pickle('data/arrythmia_dataset_debug.pickle')"
   ]
  },
  {
   "cell_type": "markdown",
   "metadata": {},
   "source": [
    "Reset abbreviations to full names for plotting frequencies."
   ]
  },
  {
   "cell_type": "code",
   "execution_count": 10,
   "metadata": {},
   "outputs": [],
   "source": [
    "new_labels = labels_df.copy()\n",
    "abr_cols = new_labels.columns[1:].to_list()\n",
    "full_names = []\n",
    "for abr in abr_cols:\n",
    "    if abr is None:\n",
    "        full_names.append(None)\n",
    "        continue\n",
    "\n",
    "    full_name = cond_names_df[cond_names_df['Acronym Name'] == abr]['Full Name'].values[0]\n",
    "    if full_name is None:\n",
    "        full_name = abr\n",
    "    full_names.append(full_name)\n",
    "new_labels.columns = ['rec_id'] + full_names\n",
    "labels_df = new_labels"
   ]
  },
  {
   "cell_type": "markdown",
   "metadata": {},
   "source": [
    "Plot the frequency of each condition (for conditions that occur more than 1% of the time)."
   ]
  },
  {
   "cell_type": "code",
   "execution_count": 11,
   "metadata": {},
   "outputs": [
    {
     "data": {
      "image/png": "[encoded data removed]",
      "text/plain": [
       "<Figure size 1000x1000 with 1 Axes>"
      ]
     },
     "metadata": {},
     "output_type": "display_data"
    }
   ],
   "source": [
    "cols = labels_df.columns\n",
    "cols = cols[1:]\n",
    "\n",
    "# get the mean of each condition\n",
    "mean = labels_df[cols].mean()\n",
    "mean = mean[mean > 0.01]\n",
    "# Sort the mean values\n",
    "mean = mean.sort_values(ascending=False)\n",
    "\n",
    "# Plot the mean of each condition\n",
    "import matplotlib.pyplot as plt\n",
    "plt.figure(figsize=(10, 10))\n",
    "mean.plot(kind='bar')\n",
    "plt.title('Frequency of each condition')\n",
    "# Rotate the x labels\n",
    "plt.xticks(rotation=90)\n",
    "plt.xlabel('Condition')\n",
    "plt.ylabel('Frequency')\n",
    "plt.show()\n"
   ]
  }
 ],
 "metadata": {
  "kernelspec": {
   "display_name": ".venv",
   "language": "python",
   "name": "python3"
  },
  "language_info": {
   "codemirror_mode": {
    "name": "ipython",
    "version": 3
   },
   "file_extension": ".py",
   "mimetype": "text/x-python",
   "name": "python",
   "nbconvert_exporter": "python",
   "pygments_lexer": "ipython3",
   "version": "3.10.12"
  }
 },
 "nbformat": 4,
 "nbformat_minor": 2
}
