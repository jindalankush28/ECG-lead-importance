{
 "cells": [
  {
   "cell_type": "code",
   "execution_count": 1,
   "metadata": {},
   "outputs": [],
   "source": [
    "%load_ext autoreload\n",
    "%autoreload 2"
   ]
  },
  {
   "cell_type": "code",
   "execution_count": 2,
   "metadata": {},
   "outputs": [
    {
     "name": "stderr",
     "output_type": "stream",
     "text": [
      "/tmp/ipykernel_445624/1797123261.py:13: DeprecationWarning: \n",
      "Pyarrow will become a required dependency of pandas in the next major release of pandas (pandas 3.0),\n",
      "(to allow more performant data types, such as the Arrow string type, and better interoperability with other libraries)\n",
      "but was not found to be installed on your system.\n",
      "If this would cause problems for you,\n",
      "please provide us feedback at https://github.com/pandas-dev/pandas/issues/54466\n",
      "        \n",
      "  import pandas as pd\n",
      "2024-04-10 14:06:36.878518: E external/local_xla/xla/stream_executor/cuda/cuda_dnn.cc:9261] Unable to register cuDNN factory: Attempting to register factory for plugin cuDNN when one has already been registered\n",
      "2024-04-10 14:06:36.878548: E external/local_xla/xla/stream_executor/cuda/cuda_fft.cc:607] Unable to register cuFFT factory: Attempting to register factory for plugin cuFFT when one has already been registered\n",
      "2024-04-10 14:06:36.879661: E external/local_xla/xla/stream_executor/cuda/cuda_blas.cc:1515] Unable to register cuBLAS factory: Attempting to register factory for plugin cuBLAS when one has already been registered\n",
      "2024-04-10 14:06:36.885029: I tensorflow/core/platform/cpu_feature_guard.cc:182] This TensorFlow binary is optimized to use available CPU instructions in performance-critical operations.\n",
      "To enable the following instructions: AVX2 FMA, in other operations, rebuild TensorFlow with the appropriate compiler flags.\n",
      "2024-04-10 14:06:43.181927: W tensorflow/compiler/tf2tensorrt/utils/py_utils.cc:38] TF-TRT Warning: Could not find TensorRT\n"
     ]
    }
   ],
   "source": [
    "# Standard libraries\n",
    "\n",
    "import math\n",
    "import os\n",
    "import sys\n",
    "\n",
    "os.environ['TF_GPU_ALLOCATOR'] = 'cuda_malloc_async'\n",
    "\n",
    "\n",
    "# Third-party libraries\n",
    "import matplotlib.pyplot as plt\n",
    "import numpy as np\n",
    "import pandas as pd\n",
    "from tqdm import tqdm\n",
    "\n",
    "# Scikit-learn\n",
    "from sklearn.calibration import calibration_curve\n",
    "from sklearn.model_selection import train_test_split\n",
    "from sklearn.preprocessing import StandardScaler\n",
    "\n",
    "# Keras\n",
    "import keras\n",
    "from keras import backend as K\n",
    "from keras.callbacks import EarlyStopping\n",
    "from keras.layers import Input, Dense, Conv1D, Dropout, Activation, Flatten\n",
    "from keras.metrics import AUC\n",
    "from keras.models import Model, Sequential\n",
    "from keras.optimizers import Adam\n",
    "from keras.utils import Sequence\n",
    "\n",
    "# TensorFlow\n",
    "import tensorflow as tf\n",
    "from tensorflow.keras.layers import Input, Dropout, Dense, Flatten, LayerNormalization, MultiHeadAttention\n",
    "from tensorflow.keras.models import Model\n",
    "\n",
    "# Local imports\n",
    "from models import Attia_et_al_CNN\n",
    "\n",
    "from utils import split_train_val_test\n",
    "\n",
    "# Environment variables\n",
    "os.environ['CUDA_VISIBLE_DEVICES'] = '3'"
   ]
  },
  {
   "cell_type": "code",
   "execution_count": 3,
   "metadata": {},
   "outputs": [],
   "source": [
    "# load diagnostic_data.pickle\n",
    "data_df = pd.read_pickle('data/arrythmia_dataset.pickle')"
   ]
  },
  {
   "cell_type": "code",
   "execution_count": 4,
   "metadata": {},
   "outputs": [
    {
     "name": "stdout",
     "output_type": "stream",
     "text": [
      "Attia et al. CNN model initialized with the following parameters:\n",
      "  filter_numbers: [16, 16, 32, 32, 64, 64]\n",
      "  kernel_widths: [5, 5, 5, 3, 3, 3]\n",
      "  pool_sizes: [2, 2, 4, 2, 2, 4]\n",
      "  spatial_num_filters: 64\n",
      "  dense_dropout_rate: 0.2\n",
      "  spatial_dropout_rate: 0.2\n",
      "  dense_units: [64, 32]\n",
      "  use_spatial_layer: False\n"
     ]
    },
    {
     "name": "stderr",
     "output_type": "stream",
     "text": [
      "2024-04-10 14:10:24.420790: I external/local_xla/xla/stream_executor/cuda/cuda_executor.cc:901] successful NUMA node read from SysFS had negative value (-1), but there must be at least one NUMA node, so returning NUMA node zero. See more at https://github.com/torvalds/linux/blob/v6.0/Documentation/ABI/testing/sysfs-bus-pci#L344-L355\n",
      "2024-04-10 14:10:24.463468: I external/local_xla/xla/stream_executor/cuda/cuda_executor.cc:901] successful NUMA node read from SysFS had negative value (-1), but there must be at least one NUMA node, so returning NUMA node zero. See more at https://github.com/torvalds/linux/blob/v6.0/Documentation/ABI/testing/sysfs-bus-pci#L344-L355\n",
      "2024-04-10 14:10:24.463812: I external/local_xla/xla/stream_executor/cuda/cuda_executor.cc:901] successful NUMA node read from SysFS had negative value (-1), but there must be at least one NUMA node, so returning NUMA node zero. See more at https://github.com/torvalds/linux/blob/v6.0/Documentation/ABI/testing/sysfs-bus-pci#L344-L355\n",
      "2024-04-10 14:10:24.467350: I external/local_xla/xla/stream_executor/cuda/cuda_executor.cc:901] successful NUMA node read from SysFS had negative value (-1), but there must be at least one NUMA node, so returning NUMA node zero. See more at https://github.com/torvalds/linux/blob/v6.0/Documentation/ABI/testing/sysfs-bus-pci#L344-L355\n",
      "2024-04-10 14:10:24.467648: I external/local_xla/xla/stream_executor/cuda/cuda_executor.cc:901] successful NUMA node read from SysFS had negative value (-1), but there must be at least one NUMA node, so returning NUMA node zero. See more at https://github.com/torvalds/linux/blob/v6.0/Documentation/ABI/testing/sysfs-bus-pci#L344-L355\n",
      "2024-04-10 14:10:24.467921: I external/local_xla/xla/stream_executor/cuda/cuda_executor.cc:901] successful NUMA node read from SysFS had negative value (-1), but there must be at least one NUMA node, so returning NUMA node zero. See more at https://github.com/torvalds/linux/blob/v6.0/Documentation/ABI/testing/sysfs-bus-pci#L344-L355\n",
      "2024-04-10 14:10:24.546337: I external/local_xla/xla/stream_executor/cuda/cuda_executor.cc:901] successful NUMA node read from SysFS had negative value (-1), but there must be at least one NUMA node, so returning NUMA node zero. See more at https://github.com/torvalds/linux/blob/v6.0/Documentation/ABI/testing/sysfs-bus-pci#L344-L355\n",
      "2024-04-10 14:10:24.546647: I external/local_xla/xla/stream_executor/cuda/cuda_executor.cc:901] successful NUMA node read from SysFS had negative value (-1), but there must be at least one NUMA node, so returning NUMA node zero. See more at https://github.com/torvalds/linux/blob/v6.0/Documentation/ABI/testing/sysfs-bus-pci#L344-L355\n",
      "2024-04-10 14:10:24.546905: I tensorflow/core/common_runtime/gpu/gpu_process_state.cc:236] Using CUDA malloc Async allocator for GPU: 0\n",
      "2024-04-10 14:10:24.547011: I external/local_xla/xla/stream_executor/cuda/cuda_executor.cc:901] successful NUMA node read from SysFS had negative value (-1), but there must be at least one NUMA node, so returning NUMA node zero. See more at https://github.com/torvalds/linux/blob/v6.0/Documentation/ABI/testing/sysfs-bus-pci#L344-L355\n",
      "2024-04-10 14:10:24.547252: I tensorflow/core/common_runtime/gpu/gpu_device.cc:1929] Created device /job:localhost/replica:0/task:0/device:GPU:0 with 22445 MB memory:  -> device: 0, name: NVIDIA RTX A5500, pci bus id: 0000:61:00.0, compute capability: 8.6\n"
     ]
    },
    {
     "name": "stdout",
     "output_type": "stream",
     "text": [
      "Model: \"model\"\n",
      "_________________________________________________________________\n",
      " Layer (type)                Output Shape              Param #   \n",
      "=================================================================\n",
      " input_1 (InputLayer)        [(None, 5000, 12)]        0         \n",
      "                                                                 \n",
      " conv1d (Conv1D)             (None, 5000, 16)          976       \n",
      "                                                                 \n",
      " batch_normalization (Batch  (None, 5000, 16)          64        \n",
      " Normalization)                                                  \n",
      "                                                                 \n",
      " activation (Activation)     (None, 5000, 16)          0         \n",
      "                                                                 \n",
      " max_pooling1d (MaxPooling1  (None, 2500, 16)          0         \n",
      " D)                                                              \n",
      "                                                                 \n",
      " spatial_dropout1d (Spatial  (None, 2500, 16)          0         \n",
      " Dropout1D)                                                      \n",
      "                                                                 \n",
      " conv1d_1 (Conv1D)           (None, 2500, 16)          1296      \n",
      "                                                                 \n",
      " batch_normalization_1 (Bat  (None, 2500, 16)          64        \n",
      " chNormalization)                                                \n",
      "                                                                 \n",
      " activation_1 (Activation)   (None, 2500, 16)          0         \n",
      "                                                                 \n",
      " max_pooling1d_1 (MaxPoolin  (None, 1250, 16)          0         \n",
      " g1D)                                                            \n",
      "                                                                 \n",
      " spatial_dropout1d_1 (Spati  (None, 1250, 16)          0         \n",
      " alDropout1D)                                                    \n",
      "                                                                 \n",
      " conv1d_2 (Conv1D)           (None, 1250, 32)          2592      \n",
      "                                                                 \n",
      " batch_normalization_2 (Bat  (None, 1250, 32)          128       \n",
      " chNormalization)                                                \n",
      "                                                                 \n",
      " activation_2 (Activation)   (None, 1250, 32)          0         \n",
      "                                                                 \n",
      " max_pooling1d_2 (MaxPoolin  (None, 312, 32)           0         \n",
      " g1D)                                                            \n",
      "                                                                 \n",
      " spatial_dropout1d_2 (Spati  (None, 312, 32)           0         \n",
      " alDropout1D)                                                    \n",
      "                                                                 \n",
      " conv1d_3 (Conv1D)           (None, 312, 32)           3104      \n",
      "                                                                 \n",
      " batch_normalization_3 (Bat  (None, 312, 32)           128       \n",
      " chNormalization)                                                \n",
      "                                                                 \n",
      " activation_3 (Activation)   (None, 312, 32)           0         \n",
      "                                                                 \n",
      " max_pooling1d_3 (MaxPoolin  (None, 156, 32)           0         \n",
      " g1D)                                                            \n",
      "                                                                 \n",
      " spatial_dropout1d_3 (Spati  (None, 156, 32)           0         \n",
      " alDropout1D)                                                    \n",
      "                                                                 \n",
      " conv1d_4 (Conv1D)           (None, 156, 64)           6208      \n",
      "                                                                 \n",
      " batch_normalization_4 (Bat  (None, 156, 64)           256       \n",
      " chNormalization)                                                \n",
      "                                                                 \n",
      " activation_4 (Activation)   (None, 156, 64)           0         \n",
      "                                                                 \n",
      " max_pooling1d_4 (MaxPoolin  (None, 78, 64)            0         \n",
      " g1D)                                                            \n",
      "                                                                 \n",
      " spatial_dropout1d_4 (Spati  (None, 78, 64)            0         \n",
      " alDropout1D)                                                    \n",
      "                                                                 \n",
      " conv1d_5 (Conv1D)           (None, 78, 64)            12352     \n",
      "                                                                 \n",
      " batch_normalization_5 (Bat  (None, 78, 64)            256       \n",
      " chNormalization)                                                \n",
      "                                                                 \n",
      " activation_5 (Activation)   (None, 78, 64)            0         \n",
      "                                                                 \n",
      " max_pooling1d_5 (MaxPoolin  (None, 19, 64)            0         \n",
      " g1D)                                                            \n",
      "                                                                 \n",
      " spatial_dropout1d_5 (Spati  (None, 19, 64)            0         \n",
      " alDropout1D)                                                    \n",
      "                                                                 \n",
      " flatten (Flatten)           (None, 1216)              0         \n",
      "                                                                 \n",
      " dense (Dense)               (None, 64)                77888     \n",
      "                                                                 \n",
      " batch_normalization_6 (Bat  (None, 64)                256       \n",
      " chNormalization)                                                \n",
      "                                                                 \n",
      " activation_6 (Activation)   (None, 64)                0         \n",
      "                                                                 \n",
      " dropout (Dropout)           (None, 64)                0         \n",
      "                                                                 \n",
      " dense_1 (Dense)             (None, 32)                2080      \n",
      "                                                                 \n",
      " batch_normalization_7 (Bat  (None, 32)                128       \n",
      " chNormalization)                                                \n",
      "                                                                 \n",
      " activation_7 (Activation)   (None, 32)                0         \n",
      "                                                                 \n",
      " dropout_1 (Dropout)         (None, 32)                0         \n",
      "                                                                 \n",
      " dense_2 (Dense)             (None, 17)                561       \n",
      "                                                                 \n",
      "=================================================================\n",
      "Total params: 108337 (423.19 KB)\n",
      "Trainable params: 107697 (420.69 KB)\n",
      "Non-trainable params: 640 (2.50 KB)\n",
      "_________________________________________________________________\n",
      "None\n"
     ]
    }
   ],
   "source": [
    "conditions = ['1AVB', 'AF', 'AFIB', 'APB', 'AQW', 'IDC',\n",
    "              'LVH', 'LVQRSAL', 'RBBB', 'SR', 'ST',\n",
    "              'STDD', 'STE', 'STTC', 'SVT', 'TWC',\n",
    "              'TWO']\n",
    "\n",
    "output_size = len(conditions)\n",
    "model = Attia_et_al_CNN(output_size=output_size).build()"
   ]
  },
  {
   "cell_type": "code",
   "execution_count": 5,
   "metadata": {},
   "outputs": [
    {
     "name": "stdout",
     "output_type": "stream",
     "text": [
      "X shape: (45053, 5000, 12)\n",
      "y shape: (45053, 17)\n",
      "y mean: 0.06011351336530439\n"
     ]
    }
   ],
   "source": [
    "# Load the data\n",
    "X, y = data_df['wf'].to_numpy(), data_df[conditions].to_numpy()\n",
    "y = y.astype(float)\n",
    "X = np.stack(X, axis=0)\n",
    "\n",
    "del data_df\n",
    "\n",
    "print(f\"X shape: {X.shape}\")\n",
    "print(f\"y shape: {y.shape}\")\n",
    "print(f\"y mean: {y.mean()}\")"
   ]
  },
  {
   "cell_type": "code",
   "execution_count": 6,
   "metadata": {},
   "outputs": [],
   "source": [
    "# Split into train and test\n",
    "X_train, X_val, X_test, y_train, y_val, y_test = split_train_val_test(X, y, train_size=0.7, val_size=0.15)\n",
    "del X, y"
   ]
  },
  {
   "cell_type": "code",
   "execution_count": 7,
   "metadata": {},
   "outputs": [],
   "source": [
    "def generator(X, y, batch_size=8):\n",
    "    row_nums = np.arange(X.shape[0])\n",
    "    np.random.shuffle(row_nums)\n",
    "    for i in range(0, len(row_nums), batch_size):\n",
    "        current_idxs = row_nums[i:i+batch_size]\n",
    "\n",
    "        yield X[current_idxs], y[current_idxs,:]\n",
    "\n",
    "output_signature = (\n",
    "    tf.TensorSpec(shape=(None, 5000, 12), dtype=tf.float32),\n",
    "    tf.TensorSpec(shape=(None, output_size), dtype=tf.float32)\n",
    ")\n",
    "\n",
    "train_ds = tf.data.Dataset.from_generator(generator=lambda: generator(X_train,y_train, 8), output_signature=output_signature)\n",
    "val_ds = tf.data.Dataset.from_generator(generator=lambda: generator(X_val,y_val, 8), output_signature=output_signature)"
   ]
  },
  {
   "cell_type": "code",
   "execution_count": 8,
   "metadata": {},
   "outputs": [],
   "source": [
    "learning_rate =1e-3\n",
    "reduce_lr = tf.keras.callbacks.ReduceLROnPlateau(\n",
    "    monitor='val_loss',  # Monitor validation loss\n",
    "    factor=0.5,  # Reduce learning rate by half when triggered\n",
    "    patience=3,  # Number of epochs with no improvement to trigger the callback\n",
    "    verbose=1,  # Print messages\n",
    "    min_lr=1e-8  # Minimum learning rate\n",
    ")\n",
    "early_stopping = EarlyStopping(monitor='val_loss', patience=6, mode='min', restore_best_weights=True)\n",
    "model.compile(loss='binary_crossentropy', optimizer=tf.keras.optimizers.legacy.Adam(learning_rate=learning_rate), metrics=['accuracy', AUC(name='auc')])\n",
    "# Training parameters\n",
    "EPOCHS = 50  # You can adjust based on your needs\n",
    "\n"
   ]
  },
  {
   "cell_type": "code",
   "execution_count": 9,
   "metadata": {},
   "outputs": [
    {
     "name": "stdout",
     "output_type": "stream",
     "text": [
      "Epoch 1/50\n"
     ]
    },
    {
     "name": "stderr",
     "output_type": "stream",
     "text": [
      "2024-04-10 14:10:50.873758: I external/local_xla/xla/stream_executor/cuda/cuda_dnn.cc:454] Loaded cuDNN version 8904\n"
     ]
    },
    {
     "name": "stdout",
     "output_type": "stream",
     "text": [
      "   3943/Unknown - 49s 11ms/step - loss: 0.2079 - accuracy: 0.2450 - auc: 0.7703"
     ]
    },
    {
     "name": "stderr",
     "output_type": "stream",
     "text": [
      "2024-04-10 14:11:37.135969: I tensorflow/core/framework/local_rendezvous.cc:421] Local rendezvous recv item cancelled. Key hash: 15851254894432586033\n"
     ]
    },
    {
     "name": "stdout",
     "output_type": "stream",
     "text": [
      "3943/3943 [==============================] - 53s 11ms/step - loss: 0.2079 - accuracy: 0.2450 - auc: 0.7703 - val_loss: 0.1652 - val_accuracy: 0.3255 - val_auc: 0.8636 - lr: 0.0010\n",
      "Epoch 2/50\n",
      "  11/3943 [..............................] - ETA: 43s - loss: 0.2023 - accuracy: 0.3409 - auc: 0.8324"
     ]
    },
    {
     "name": "stderr",
     "output_type": "stream",
     "text": [
      "2024-04-10 14:11:40.535947: I tensorflow/core/framework/local_rendezvous.cc:421] Local rendezvous recv item cancelled. Key hash: 5474817431934542826\n",
      "2024-04-10 14:11:40.536005: I tensorflow/core/framework/local_rendezvous.cc:421] Local rendezvous recv item cancelled. Key hash: 14692816815526548696\n",
      "2024-04-10 14:11:40.536021: I tensorflow/core/framework/local_rendezvous.cc:421] Local rendezvous recv item cancelled. Key hash: 4008971303760801404\n"
     ]
    },
    {
     "name": "stdout",
     "output_type": "stream",
     "text": [
      "3943/3943 [==============================] - 47s 12ms/step - loss: 0.1644 - accuracy: 0.3597 - auc: 0.8575 - val_loss: 0.1273 - val_accuracy: 0.4711 - val_auc: 0.9217 - lr: 0.0010\n",
      "Epoch 3/50\n",
      "3943/3943 [==============================] - 48s 12ms/step - loss: 0.1466 - accuracy: 0.4218 - auc: 0.8880 - val_loss: 0.1185 - val_accuracy: 0.5022 - val_auc: 0.9299 - lr: 0.0010\n",
      "Epoch 4/50\n",
      "3943/3943 [==============================] - 45s 11ms/step - loss: 0.1383 - accuracy: 0.4527 - auc: 0.9012 - val_loss: 0.1145 - val_accuracy: 0.5101 - val_auc: 0.9354 - lr: 0.0010\n",
      "Epoch 5/50\n",
      "3943/3943 [==============================] - 48s 12ms/step - loss: 0.1351 - accuracy: 0.4706 - auc: 0.9060 - val_loss: 0.1122 - val_accuracy: 0.5244 - val_auc: 0.9395 - lr: 0.0010\n",
      "Epoch 6/50\n",
      "3943/3943 [==============================] - 45s 11ms/step - loss: 0.1322 - accuracy: 0.4889 - auc: 0.9106 - val_loss: 0.1116 - val_accuracy: 0.5334 - val_auc: 0.9399 - lr: 0.0010\n",
      "Epoch 7/50\n",
      "3943/3943 [==============================] - 47s 12ms/step - loss: 0.1296 - accuracy: 0.4987 - auc: 0.9137 - val_loss: 0.1100 - val_accuracy: 0.5833 - val_auc: 0.9428 - lr: 0.0010\n",
      "Epoch 8/50\n",
      "3943/3943 [==============================] - 43s 11ms/step - loss: 0.1285 - accuracy: 0.5019 - auc: 0.9160 - val_loss: 0.1096 - val_accuracy: 0.6594 - val_auc: 0.9421 - lr: 0.0010\n",
      "Epoch 9/50\n",
      "3943/3943 [==============================] - 47s 12ms/step - loss: 0.1275 - accuracy: 0.5075 - auc: 0.9174 - val_loss: 0.1085 - val_accuracy: 0.5494 - val_auc: 0.9437 - lr: 0.0010\n",
      "Epoch 10/50\n",
      "3943/3943 [==============================] - 43s 11ms/step - loss: 0.1259 - accuracy: 0.5121 - auc: 0.9203 - val_loss: 0.1067 - val_accuracy: 0.5392 - val_auc: 0.9462 - lr: 0.0010\n",
      "Epoch 11/50\n",
      "3943/3943 [==============================] - 47s 12ms/step - loss: 0.1248 - accuracy: 0.5113 - auc: 0.9221 - val_loss: 0.1059 - val_accuracy: 0.5404 - val_auc: 0.9469 - lr: 0.0010\n",
      "Epoch 12/50\n",
      "3943/3943 [==============================] - 47s 12ms/step - loss: 0.1239 - accuracy: 0.5093 - auc: 0.9231 - val_loss: 0.1047 - val_accuracy: 0.5469 - val_auc: 0.9483 - lr: 0.0010\n",
      "Epoch 13/50\n",
      "3943/3943 [==============================] - 47s 12ms/step - loss: 0.1223 - accuracy: 0.5110 - auc: 0.9258 - val_loss: 0.1040 - val_accuracy: 0.5437 - val_auc: 0.9491 - lr: 0.0010\n",
      "Epoch 14/50\n",
      "3943/3943 [==============================] - 46s 12ms/step - loss: 0.1217 - accuracy: 0.5142 - auc: 0.9264 - val_loss: 0.1046 - val_accuracy: 0.5500 - val_auc: 0.9480 - lr: 0.0010\n",
      "Epoch 15/50\n",
      "3943/3943 [==============================] - 48s 12ms/step - loss: 0.1210 - accuracy: 0.5144 - auc: 0.9278 - val_loss: 0.1034 - val_accuracy: 0.5426 - val_auc: 0.9499 - lr: 0.0010\n",
      "Epoch 16/50\n",
      "3943/3943 [==============================] - 47s 12ms/step - loss: 0.1209 - accuracy: 0.5099 - auc: 0.9281 - val_loss: 0.1022 - val_accuracy: 0.5500 - val_auc: 0.9507 - lr: 0.0010\n",
      "Epoch 17/50\n",
      "3943/3943 [==============================] - 48s 12ms/step - loss: 0.1203 - accuracy: 0.5098 - auc: 0.9291 - val_loss: 0.1028 - val_accuracy: 0.5425 - val_auc: 0.9501 - lr: 0.0010\n",
      "Epoch 18/50\n",
      "3943/3943 [==============================] - 48s 12ms/step - loss: 0.1191 - accuracy: 0.5126 - auc: 0.9305 - val_loss: 0.1017 - val_accuracy: 0.5438 - val_auc: 0.9516 - lr: 0.0010\n",
      "Epoch 19/50\n",
      "3943/3943 [==============================] - 48s 12ms/step - loss: 0.1190 - accuracy: 0.5123 - auc: 0.9302 - val_loss: 0.1010 - val_accuracy: 0.5534 - val_auc: 0.9526 - lr: 0.0010\n",
      "Epoch 20/50\n",
      "3943/3943 [==============================] - 47s 12ms/step - loss: 0.1187 - accuracy: 0.5121 - auc: 0.9311 - val_loss: 0.1012 - val_accuracy: 0.5460 - val_auc: 0.9523 - lr: 0.0010\n",
      "Epoch 21/50\n",
      "3943/3943 [==============================] - 44s 11ms/step - loss: 0.1186 - accuracy: 0.5127 - auc: 0.9313 - val_loss: 0.1012 - val_accuracy: 0.5465 - val_auc: 0.9517 - lr: 0.0010\n",
      "Epoch 22/50\n",
      "3943/3943 [==============================] - 45s 12ms/step - loss: 0.1177 - accuracy: 0.5116 - auc: 0.9317 - val_loss: 0.1008 - val_accuracy: 0.5454 - val_auc: 0.9524 - lr: 0.0010\n",
      "Epoch 23/50\n",
      "3943/3943 [==============================] - 45s 11ms/step - loss: 0.1173 - accuracy: 0.5146 - auc: 0.9330 - val_loss: 0.1011 - val_accuracy: 0.5485 - val_auc: 0.9521 - lr: 0.0010\n",
      "Epoch 24/50\n",
      "3943/3943 [==============================] - 46s 12ms/step - loss: 0.1167 - accuracy: 0.5156 - auc: 0.9333 - val_loss: 0.1001 - val_accuracy: 0.5530 - val_auc: 0.9543 - lr: 0.0010\n",
      "Epoch 25/50\n",
      "3943/3943 [==============================] - 47s 12ms/step - loss: 0.1170 - accuracy: 0.5142 - auc: 0.9327 - val_loss: 0.1009 - val_accuracy: 0.5463 - val_auc: 0.9529 - lr: 0.0010\n",
      "Epoch 26/50\n",
      "3943/3943 [==============================] - 46s 12ms/step - loss: 0.1160 - accuracy: 0.5154 - auc: 0.9344 - val_loss: 0.1000 - val_accuracy: 0.5519 - val_auc: 0.9534 - lr: 0.0010\n",
      "Epoch 27/50\n",
      "3943/3943 [==============================] - 46s 12ms/step - loss: 0.1163 - accuracy: 0.5182 - auc: 0.9342 - val_loss: 0.1000 - val_accuracy: 0.5494 - val_auc: 0.9526 - lr: 0.0010\n",
      "Epoch 28/50\n",
      "3943/3943 [==============================] - 42s 11ms/step - loss: 0.1164 - accuracy: 0.5148 - auc: 0.9338 - val_loss: 0.0998 - val_accuracy: 0.5511 - val_auc: 0.9531 - lr: 0.0010\n",
      "Epoch 29/50\n",
      "3943/3943 [==============================] - 44s 11ms/step - loss: 0.1160 - accuracy: 0.5153 - auc: 0.9343 - val_loss: 0.1000 - val_accuracy: 0.5587 - val_auc: 0.9534 - lr: 0.0010\n",
      "Epoch 30/50\n",
      "3943/3943 [==============================] - 45s 11ms/step - loss: 0.1153 - accuracy: 0.5184 - auc: 0.9353 - val_loss: 0.0998 - val_accuracy: 0.5542 - val_auc: 0.9543 - lr: 0.0010\n",
      "Epoch 31/50\n",
      "3941/3943 [============================>.] - ETA: 0s - loss: 0.1157 - accuracy: 0.5197 - auc: 0.9349\n",
      "Epoch 31: ReduceLROnPlateau reducing learning rate to 0.0005000000237487257.\n",
      "3943/3943 [==============================] - 47s 12ms/step - loss: 0.1157 - accuracy: 0.5197 - auc: 0.9349 - val_loss: 0.0998 - val_accuracy: 0.5531 - val_auc: 0.9536 - lr: 0.0010\n",
      "Epoch 32/50\n",
      "3943/3943 [==============================] - 46s 12ms/step - loss: 0.1141 - accuracy: 0.5199 - auc: 0.9368 - val_loss: 0.0992 - val_accuracy: 0.5539 - val_auc: 0.9542 - lr: 5.0000e-04\n",
      "Epoch 33/50\n",
      "3943/3943 [==============================] - 45s 11ms/step - loss: 0.1140 - accuracy: 0.5195 - auc: 0.9371 - val_loss: 0.0994 - val_accuracy: 0.5465 - val_auc: 0.9550 - lr: 5.0000e-04\n",
      "Epoch 34/50\n",
      "3943/3943 [==============================] - 43s 11ms/step - loss: 0.1133 - accuracy: 0.5193 - auc: 0.9380 - val_loss: 0.0990 - val_accuracy: 0.5512 - val_auc: 0.9544 - lr: 5.0000e-04\n",
      "Epoch 35/50\n",
      "3943/3943 [==============================] - 47s 12ms/step - loss: 0.1133 - accuracy: 0.5199 - auc: 0.9378 - val_loss: 0.0987 - val_accuracy: 0.5472 - val_auc: 0.9544 - lr: 5.0000e-04\n",
      "Epoch 36/50\n",
      "3943/3943 [==============================] - 45s 11ms/step - loss: 0.1131 - accuracy: 0.5182 - auc: 0.9383 - val_loss: 0.0984 - val_accuracy: 0.5491 - val_auc: 0.9554 - lr: 5.0000e-04\n",
      "Epoch 37/50\n",
      "3943/3943 [==============================] - 44s 11ms/step - loss: 0.1129 - accuracy: 0.5198 - auc: 0.9387 - val_loss: 0.0979 - val_accuracy: 0.5515 - val_auc: 0.9561 - lr: 5.0000e-04\n",
      "Epoch 38/50\n",
      "3943/3943 [==============================] - 47s 12ms/step - loss: 0.1127 - accuracy: 0.5193 - auc: 0.9390 - val_loss: 0.0982 - val_accuracy: 0.5527 - val_auc: 0.9557 - lr: 5.0000e-04\n",
      "Epoch 39/50\n",
      "3943/3943 [==============================] - 46s 12ms/step - loss: 0.1126 - accuracy: 0.5196 - auc: 0.9390 - val_loss: 0.0981 - val_accuracy: 0.5478 - val_auc: 0.9557 - lr: 5.0000e-04\n",
      "Epoch 40/50\n",
      "3938/3943 [============================>.] - ETA: 0s - loss: 0.1124 - accuracy: 0.5203 - auc: 0.9388\n",
      "Epoch 40: ReduceLROnPlateau reducing learning rate to 0.0002500000118743628.\n",
      "3943/3943 [==============================] - 44s 11ms/step - loss: 0.1125 - accuracy: 0.5202 - auc: 0.9388 - val_loss: 0.0982 - val_accuracy: 0.5497 - val_auc: 0.9555 - lr: 5.0000e-04\n",
      "Epoch 41/50\n",
      "3943/3943 [==============================] - 47s 12ms/step - loss: 0.1121 - accuracy: 0.5187 - auc: 0.9399 - val_loss: 0.0977 - val_accuracy: 0.5506 - val_auc: 0.9560 - lr: 2.5000e-04\n",
      "Epoch 42/50\n",
      "3943/3943 [==============================] - 45s 11ms/step - loss: 0.1117 - accuracy: 0.5218 - auc: 0.9396 - val_loss: 0.0978 - val_accuracy: 0.5490 - val_auc: 0.9561 - lr: 2.5000e-04\n",
      "Epoch 43/50\n",
      "3943/3943 [==============================] - 45s 11ms/step - loss: 0.1115 - accuracy: 0.5222 - auc: 0.9405 - val_loss: 0.0979 - val_accuracy: 0.5484 - val_auc: 0.9557 - lr: 2.5000e-04\n",
      "Epoch 44/50\n",
      "3942/3943 [============================>.] - ETA: 0s - loss: 0.1111 - accuracy: 0.5222 - auc: 0.9411\n",
      "Epoch 44: ReduceLROnPlateau reducing learning rate to 0.0001250000059371814.\n",
      "3943/3943 [==============================] - 47s 12ms/step - loss: 0.1111 - accuracy: 0.5222 - auc: 0.9411 - val_loss: 0.0978 - val_accuracy: 0.5493 - val_auc: 0.9560 - lr: 2.5000e-04\n",
      "Epoch 45/50\n",
      "3943/3943 [==============================] - 42s 11ms/step - loss: 0.1114 - accuracy: 0.5206 - auc: 0.9403 - val_loss: 0.0977 - val_accuracy: 0.5494 - val_auc: 0.9556 - lr: 1.2500e-04\n",
      "Epoch 46/50\n",
      "3943/3943 [==============================] - 41s 10ms/step - loss: 0.1114 - accuracy: 0.5221 - auc: 0.9404 - val_loss: 0.0978 - val_accuracy: 0.5465 - val_auc: 0.9554 - lr: 1.2500e-04\n",
      "Epoch 47/50\n",
      "3943/3943 [==============================] - 46s 12ms/step - loss: 0.1108 - accuracy: 0.5244 - auc: 0.9409 - val_loss: 0.0974 - val_accuracy: 0.5508 - val_auc: 0.9570 - lr: 1.2500e-04\n",
      "Epoch 48/50\n",
      "3943/3943 [==============================] - 47s 12ms/step - loss: 0.1109 - accuracy: 0.5245 - auc: 0.9411 - val_loss: 0.0976 - val_accuracy: 0.5490 - val_auc: 0.9562 - lr: 1.2500e-04\n",
      "Epoch 49/50\n",
      "3943/3943 [==============================] - 49s 12ms/step - loss: 0.1107 - accuracy: 0.5225 - auc: 0.9419 - val_loss: 0.0974 - val_accuracy: 0.5496 - val_auc: 0.9565 - lr: 1.2500e-04\n",
      "Epoch 50/50\n",
      "3941/3943 [============================>.] - ETA: 0s - loss: 0.1109 - accuracy: 0.5220 - auc: 0.9412\n",
      "Epoch 50: ReduceLROnPlateau reducing learning rate to 6.25000029685907e-05.\n",
      "3943/3943 [==============================] - 47s 12ms/step - loss: 0.1109 - accuracy: 0.5220 - auc: 0.9412 - val_loss: 0.0975 - val_accuracy: 0.5513 - val_auc: 0.9565 - lr: 1.2500e-04\n"
     ]
    }
   ],
   "source": [
    "history = model.fit(train_ds,\n",
    "    epochs=EPOCHS,\n",
    "    shuffle=True,\n",
    "    validation_data=val_ds,\n",
    "    callbacks=[reduce_lr, early_stopping],\n",
    "    verbose=1)"
   ]
  },
  {
   "cell_type": "code",
   "execution_count": 10,
   "metadata": {},
   "outputs": [
    {
     "name": "stdout",
     "output_type": "stream",
     "text": [
      "212/212 [==============================] - 2s 3ms/step\n",
      "1AVB: 0.9638099347909473\n",
      "AF: 0.9681221354801401\n",
      "AFIB: 0.9240833028964911\n",
      "APB: 0.8140585378049217\n",
      "AQW: 0.7729185460195956\n",
      "IDC: 0.8682842597013195\n",
      "LVH: 0.9632228638854536\n",
      "LVQRSAL: 0.7586582659080875\n",
      "RBBB: 0.8670345295399106\n",
      "SR: 0.9854833493522901\n",
      "ST: 0.9967942732648615\n",
      "STDD: 0.9418983971992128\n",
      "STE: 0.6623381511592894\n",
      "STTC: 0.8628587479865345\n",
      "SVT: 0.9931811101752603\n",
      "TWC: 0.9027098891581641\n",
      "TWO: 0.9339386767157304\n"
     ]
    }
   ],
   "source": [
    "from sklearn.metrics import roc_auc_score\n",
    "\n",
    "y_pred = model.predict(X_test)\n",
    "\n",
    "for i, condition in enumerate(conditions):\n",
    "    auc = roc_auc_score(y_test[:,i], y_pred[:,i])\n",
    "    print(f\"{condition}: {auc}\")\n",
    "    "
   ]
  },
  {
   "cell_type": "code",
   "execution_count": 11,
   "metadata": {},
   "outputs": [
    {
     "name": "stdout",
     "output_type": "stream",
     "text": [
      "212/212 [==============================] - 1s 3ms/step\n",
      "Test AUROC: 0.893\n",
      "Train AUROC: 0.907\n",
      "Train AUROC: 0.907\n"
     ]
    }
   ],
   "source": [
    "# Calculate AUROC\n",
    "pred = model.predict(X_test)\n",
    "auc = roc_auc_score(y_test, pred)\n",
    "print(f\"Test AUROC: {auc:.3f}\")\n",
    "\n",
    "# Train AUROC\n",
    "pred_train = model.predict(X_train, verbose=0)\n",
    "auc_train = roc_auc_score(y_train, pred_train)\n",
    "print(f\"Train AUROC: {auc_train:.3f}\")\n",
    "\n",
    "# Train AUROC\n",
    "pred_val = model.predict(X_val, verbose=0)\n",
    "auc_val = roc_auc_score(y_val, pred_val)\n",
    "print(f\"Val AUROC: {auc_train:.3f}\")"
   ]
  },
  {
   "cell_type": "code",
   "execution_count": 12,
   "metadata": {},
   "outputs": [],
   "source": [
    "os.makedirs('models', exist_ok=True)\n",
    "model.save(f'models/12-lead/multi_output_cnn.keras')"
   ]
  },
  {
   "cell_type": "code",
   "execution_count": null,
   "metadata": {},
   "outputs": [],
   "source": [
    "# Load the model\n",
    "model = keras.models.load_model(f'models/12-lead/multi_output_cnn.keras')"
   ]
  }
 ],
 "metadata": {
  "kernelspec": {
   "display_name": ".venv",
   "language": "python",
   "name": "python3"
  },
  "language_info": {
   "codemirror_mode": {
    "name": "ipython",
    "version": 3
   },
   "file_extension": ".py",
   "mimetype": "text/x-python",
   "name": "python",
   "nbconvert_exporter": "python",
   "pygments_lexer": "ipython3",
   "version": "3.10.12"
  }
 },
 "nbformat": 4,
 "nbformat_minor": 2
}
